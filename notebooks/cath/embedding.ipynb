{
 "cells": [
  {
   "cell_type": "markdown",
   "metadata": {},
   "source": [
    "# Hyperbolical Embedding of CATH Labels and Protein Sequences\n",
    "\n",
    "Hierarchy:\n",
    "[CATH Labels Hierarchy](http://www.cathdb.info/browse/tree)\n",
    "\n",
    "Embedding Method:\n",
    "[Poincaré Embeddings for Learning Hierarchical Representations](https://papers.nips.cc/paper/2017/file/59dfa2df42d9e3d41f5b02bfc32229dd-Paper.pdf) & \n",
    "[Joint Learning of Hyperbolic Label Embeddings for Hierarchical Multi-label Classification: hierarchy embedding method](https://github.com/geoopt/geoopt/blob/master/examples/hyperbolic_multiclass_classification.ipynb)\n",
    "\n",
    "Loss function for embedding a known hierarchy:\n",
    "[Unit Ball Model for Embedding Hierarchical Structures in the Complex Hyperbolic Space](https://arxiv.org/pdf/2105.03966v3.pdf)\n",
    "\n",
    "Plots and manifold computations:\n",
    "[Geoopt library and usage example](https://github.com/geoopt/geoopt/blob/master/examples/hyperbolic_multiclass_classification.ipynb)\n",
    "\n",
    "Protein sequence embedding:\n",
    "[T5 model for protein sequences](https://huggingface.co/Rostlab/prot_t5_xl_half_uniref50-enc)"
   ]
  },
  {
   "cell_type": "markdown",
   "metadata": {},
   "source": [
    "## Setup"
   ]
  },
  {
   "cell_type": "code",
   "execution_count": 1,
   "metadata": {},
   "outputs": [
    {
     "name": "stderr",
     "output_type": "stream",
     "text": [
      "/mnt/lsf-nas-1/os-shared/anaconda3/envs/turcuman_heps_2/lib/python3.10/site-packages/tqdm/auto.py:22: TqdmWarning: IProgress not found. Please update jupyter and ipywidgets. See https://ipywidgets.readthedocs.io/en/stable/user_install.html\n",
      "  from .autonotebook import tqdm as notebook_tqdm\n"
     ]
    },
    {
     "name": "stdout",
     "output_type": "stream",
     "text": [
      "Using cuda:0\n"
     ]
    }
   ],
   "source": [
    "import torch\n",
    "torch.manual_seed(1)\n",
    "torch.cuda.manual_seed(1)\n",
    "\n",
    "from tqdm import tqdm\n",
    "from datetime import datetime\n",
    "import logging\n",
    "\n",
    "import os, sys\n",
    "sys.path.append(os.path.join(os.getcwd(), '../..'))\n",
    "\n",
    "import numpy as np\n",
    "import matplotlib.pyplot as plt\n",
    "\n",
    "from transformers import T5Tokenizer, T5EncoderModel\n",
    "\n",
    "# from src.cath.datasets import LabelDataset\n",
    "# from src.utils import add_geodesic_grid\n",
    "# from src.utils import choice\n",
    "\n",
    "from src.datasets import SequenceLabelDataset, SequenceDataset\n",
    "from src.cath import CathLabelDataset\n",
    "from src.losses import SequenceLabelLoss\n",
    "from src.models import LabelEmbedModel\n",
    "\n",
    "device = torch.device('cuda:0' if torch.cuda.is_available() else 'cpu')\n",
    "print(\"Using {}\".format(device))\n",
    "\n",
    "# logging.basicConfig(filename='../../logs/embedding.txt', level=logging.DEBUG)\n",
    "\n",
    "# timestamp = datetime.now().strftime('%Y%m%d_%H%M%S')\n",
    "# logger = torch.utils.tensorboard.SummaryWriter('{}'.format(timestamp))\n",
    "\n",
    "%matplotlib inline"
   ]
  },
  {
   "cell_type": "markdown",
   "metadata": {},
   "source": [
    "## Data"
   ]
  },
  {
   "cell_type": "code",
   "execution_count": 30,
   "metadata": {},
   "outputs": [],
   "source": [
    "label_dataset = CathLabelDataset('../../data/cath/labels.csv', 10)\n",
    "seq_dataset = SequenceDataset('../../data/cath/train.csv', label_dataset.no_labels())\n",
    "\n",
    "trainloader = torch.utils.data.DataLoader(\n",
    "    SequenceLabelDataset(seq_dataset, label_dataset),\n",
    "    batch_size=1,\n",
    "    shuffle=True,\n",
    "    num_workers=8,\n",
    "    pin_memory=True\n",
    ")"
   ]
  },
  {
   "cell_type": "markdown",
   "metadata": {},
   "source": [
    "## Models"
   ]
  },
  {
   "cell_type": "code",
   "execution_count": 27,
   "metadata": {},
   "outputs": [],
   "source": [
    "seq_encoder = T5EncoderModel.from_pretrained(\"Rostlab/prot_t5_xl_half_uniref50-enc\")\n",
    "seq_encoder = seq_encoder.to(device)\n",
    "\n",
    "tokenizer = T5Tokenizer.from_pretrained('Rostlab/prot_t5_xl_half_uniref50-enc', do_lower_case=False)"
   ]
  },
  {
   "cell_type": "code",
   "execution_count": 28,
   "metadata": {},
   "outputs": [],
   "source": [
    "label_model = LabelEmbedModel(label_dataset.no_labels(), eye=True) #.to(device)\n",
    "label_model = torch.nn.DataParallel(label_model).to(device) # TODO: Should i do this?\n",
    "\n",
    "all_labels = torch.arange(label_dataset.no_labels()).to(device)"
   ]
  },
  {
   "cell_type": "markdown",
   "metadata": {},
   "source": [
    "## Utils"
   ]
  },
  {
   "cell_type": "code",
   "execution_count": 5,
   "metadata": {},
   "outputs": [],
   "source": [
    "def seq_embd_means_no_inplace_operation(seqs, seq_embds):\n",
    "    mask = torch.empty((seq_embds.shape[0], seq_embds.shape[1]))\n",
    "\n",
    "    for i in range(len(seq_embds)):\n",
    "        mask[i] = torch.where(torch.arange(seq_embds.shape[1]) <= len(seqs[i]) // 2 + 1, 1, 0)\n",
    "\n",
    "    mask = mask.unsqueeze(2).repeat(1, 1, 1024).to(device)\n",
    "\n",
    "    return (seq_embds * mask.to(device)).mean(axis=1)"
   ]
  },
  {
   "cell_type": "code",
   "execution_count": 6,
   "metadata": {},
   "outputs": [],
   "source": [
    "def seq_embd_means_inplace_operation(seqs, seq_embds):\n",
    "    seq_embd_means = torch.empty((len(seq_embds), seq_embds.shape[-1]))\n",
    "\n",
    "    for i in range(len(seqs)):\n",
    "        seq_embd_means[i] = seq_embds[i, :len(seqs[i]) // 2 + 1].mean(axis=0)\n",
    "        \n",
    "    return seq_embd_means.to(device)"
   ]
  },
  {
   "cell_type": "markdown",
   "metadata": {},
   "source": [
    "## Train"
   ]
  },
  {
   "cell_type": "code",
   "execution_count": 31,
   "metadata": {},
   "outputs": [],
   "source": [
    "loss_fn = SequenceLabelLoss(_lambda=0.1)\n",
    "\n",
    "optimizer = torch.optim.Adam([\n",
    "        {'params': label_model.parameters(), 'lr': 0.001},\n",
    "        {'params': seq_encoder.parameters(), 'lr': 0.001}\n",
    "    ])"
   ]
  },
  {
   "cell_type": "code",
   "execution_count": 36,
   "metadata": {},
   "outputs": [],
   "source": [
    "def train_epoch():\n",
    "    total_loss = 0\n",
    "\n",
    "    pbar = tqdm(enumerate(trainloader, 1))\n",
    "    for idx, batch in pbar:\n",
    "        seqs, labels, edges = batch\n",
    "        labels, edges = labels.to(device), edges.to(device)\n",
    "\n",
    "        # TODO: can i tokenize on cuda?\n",
    "        ids = tokenizer.batch_encode_plus(seqs, add_special_tokens=True, padding=\"longest\")\n",
    "\n",
    "        with torch.no_grad():\n",
    "            input_ids = torch.tensor(ids['input_ids']).to(device)\n",
    "            attention_mask = torch.tensor(ids['attention_mask']).to(device)\n",
    "\n",
    "        optimizer.zero_grad()\n",
    "\n",
    "        label_embds = label_model(all_labels)\n",
    "\n",
    "        seq_embd_repr = seq_encoder(input_ids=input_ids, attention_mask=attention_mask)\n",
    "        seq_embds     = seq_embd_repr.last_hidden_state\n",
    "\n",
    "        with torch.no_grad():\n",
    "            # TODO: which one to use?\n",
    "            seq_embds = seq_embd_means_no_inplace_operation(seqs, seq_embds)\n",
    "            # seq_embds =  seq_embd_means_inplace_operation(seqs, seq_embds)\n",
    "        \n",
    "        dot = seq_embds @ label_embds.T\n",
    "        loss = loss_fn(dot, labels, label_model(edges))\n",
    "        \n",
    "        loss.backward()\n",
    "        optimizer.step()\n",
    "        total_loss += loss.item()\n",
    "        \n",
    "        pbar.set_description(f\"Batch {idx} / {len(trainloader)}, loss {loss.item()}\")\n",
    "\n",
    "\n",
    "    return total_loss / len(trainloader)"
   ]
  },
  {
   "cell_type": "code",
   "execution_count": null,
   "metadata": {},
   "outputs": [],
   "source": [
    "EPOCHS = 1\n",
    "\n",
    "pbar = tqdm(range(EPOCHS))\n",
    "for epoch in range(EPOCHS):\n",
    "\n",
    "    # logging.info(f\"Epoch {epoch+1}/{EPOCHS}\")\n",
    "    label_model.train(True)\n",
    "    seq_encoder.train(True)\n",
    "\n",
    "    loss = train_epoch()\n",
    "    \n",
    "    pbar.set_description(f\"Epoch {epoch}, loss {loss.item()}\")\n",
    "    \n",
    "    # label_model.eval()\n",
    "    # seq_encoder.eval()\n",
    "\n",
    "    # logging.info(f\"\\ttrain Loss {loss:.6f}\")"
   ]
  },
  {
   "cell_type": "markdown",
   "metadata": {},
   "source": [
    "## Playground"
   ]
  },
  {
   "cell_type": "code",
   "execution_count": 10,
   "metadata": {},
   "outputs": [
    {
     "data": {
      "text/plain": [
       "tensor([[[1., 1.],\n",
       "         [0., 0.],\n",
       "         [0., 0.]]], dtype=torch.float64)"
      ]
     },
     "execution_count": 10,
     "metadata": {},
     "output_type": "execute_result"
    }
   ],
   "source": [
    "a = torch.where(torch.arange(3) < 1, 1, 0).unsqueeze(1).repeat(1, 2).to(float)\n",
    "a = a.unsqueeze(0)\n",
    "a"
   ]
  },
  {
   "cell_type": "code",
   "execution_count": null,
   "metadata": {},
   "outputs": [],
   "source": []
  }
 ],
 "metadata": {
  "kernelspec": {
   "display_name": "Python 3 (ipykernel)",
   "language": "python",
   "name": "python3"
  },
  "language_info": {
   "codemirror_mode": {
    "name": "ipython",
    "version": 3
   },
   "file_extension": ".py",
   "mimetype": "text/x-python",
   "name": "python",
   "nbconvert_exporter": "python",
   "pygments_lexer": "ipython3",
   "version": "3.10.9"
  },
  "vscode": {
   "interpreter": {
    "hash": "f9142d7ddd0beea42c6382d4784af463c15297f753233ce920e470f27cf3cc90"
   }
  }
 },
 "nbformat": 4,
 "nbformat_minor": 4
}
