{
 "cells": [
  {
   "cell_type": "markdown",
   "metadata": {},
   "source": [
    "# Hyperbolical Embedding of CATH Labels and Protein Sequences\n",
    "\n",
    "Hierarchy:\n",
    "[CATH Labels Hierarchy](http://www.cathdb.info/browse/tree)\n",
    "\n",
    "Embedding Method:\n",
    "[Poincaré Embeddings for Learning Hierarchical Representations](https://papers.nips.cc/paper/2017/file/59dfa2df42d9e3d41f5b02bfc32229dd-Paper.pdf) & \n",
    "[Joint Learning of Hyperbolic Label Embeddings for Hierarchical Multi-label Classification: hierarchy embedding method](https://github.com/geoopt/geoopt/blob/master/examples/hyperbolic_multiclass_classification.ipynb)\n",
    "\n",
    "Loss function for embedding a known hierarchy:\n",
    "[Unit Ball Model for Embedding Hierarchical Structures in the Complex Hyperbolic Space](https://arxiv.org/pdf/2105.03966v3.pdf)\n",
    "\n",
    "Plots and manifold computations:\n",
    "[Geoopt library and usage example](https://github.com/geoopt/geoopt/blob/master/examples/hyperbolic_multiclass_classification.ipynb)\n",
    "\n",
    "Protein sequence embedding:\n",
    "[T5 model for protein sequences](https://huggingface.co/Rostlab/prot_t5_xl_half_uniref50-enc)"
   ]
  },
  {
   "cell_type": "markdown",
   "metadata": {},
   "source": [
    "## Setup"
   ]
  },
  {
   "cell_type": "code",
   "execution_count": 1,
   "metadata": {},
   "outputs": [
    {
     "name": "stderr",
     "output_type": "stream",
     "text": [
      "/mnt/lsf-nas-1/os-shared/anaconda3/envs/turcuman_heps_2/lib/python3.10/site-packages/tqdm/auto.py:22: TqdmWarning: IProgress not found. Please update jupyter and ipywidgets. See https://ipywidgets.readthedocs.io/en/stable/user_install.html\n",
      "  from .autonotebook import tqdm as notebook_tqdm\n"
     ]
    },
    {
     "name": "stdout",
     "output_type": "stream",
     "text": [
      "Using cuda:0\n"
     ]
    }
   ],
   "source": [
    "import torch\n",
    "torch.manual_seed(1)\n",
    "torch.cuda.manual_seed(1)\n",
    "\n",
    "from tqdm import tqdm\n",
    "from datetime import datetime\n",
    "import logging\n",
    "\n",
    "import os, sys\n",
    "sys.path.append(os.path.join(os.getcwd(), '../..'))\n",
    "\n",
    "import numpy as np\n",
    "import matplotlib.pyplot as plt\n",
    "\n",
    "from transformers import T5Tokenizer, T5EncoderModel\n",
    "\n",
    "# from src.cath.datasets import LabelDataset\n",
    "# from src.utils import add_geodesic_grid\n",
    "# from src.utils import choice\n",
    "\n",
    "from src.datasets import SequenceLabelDataset, SequenceDataset\n",
    "from src.cath import CathLabelDataset\n",
    "from src.losses import SequenceLabelLoss, SequenceLoss\n",
    "from src.models import LabelEmbedModel\n",
    "\n",
    "device = torch.device('cuda:0' if torch.cuda.is_available() else 'cpu')\n",
    "print(\"Using {}\".format(device))\n",
    "\n",
    "# logging.basicConfig(filename='../../logs/embedding.txt', level=logging.DEBUG)\n",
    "\n",
    "# logger = torch.utils.tensorboard.SummaryWriter('{}'.format(timestamp))\n",
    "\n",
    "# timestamp = datetime.now().strftime('%Y%m%d_%H%M%S')\n",
    "# logger = torch.utils.tensorboard.SummaryWriter('logs/embedding_{}'.format(timestamp))\n",
    "\n",
    "%matplotlib inline"
   ]
  },
  {
   "cell_type": "markdown",
   "metadata": {},
   "source": [
    "## Data"
   ]
  },
  {
   "cell_type": "code",
   "execution_count": 2,
   "metadata": {},
   "outputs": [],
   "source": [
    "label_dataset = CathLabelDataset('../../data/cath/labels.csv', 10)\n",
    "seq_train_dataset = SequenceDataset('../../data/cath/train.csv', label_dataset.no_labels())\n",
    "\n",
    "trainloader = torch.utils.data.DataLoader(\n",
    "    SequenceLabelDataset(seq_train_dataset, label_dataset),\n",
    "    batch_size=1,\n",
    "    shuffle=True,\n",
    "    num_workers=8,\n",
    "    pin_memory=True\n",
    ")"
   ]
  },
  {
   "cell_type": "code",
   "execution_count": 3,
   "metadata": {},
   "outputs": [],
   "source": [
    "seq_val_dataset = SequenceDataset('../../data/cath/val.csv', label_dataset.no_labels())\n",
    "\n",
    "valloader = torch.utils.data.DataLoader(\n",
    "    seq_val_dataset,\n",
    "    batch_size=1,\n",
    "    shuffle=True,\n",
    "    num_workers=8,\n",
    "    pin_memory=True\n",
    ")"
   ]
  },
  {
   "cell_type": "markdown",
   "metadata": {},
   "source": [
    "## Models"
   ]
  },
  {
   "cell_type": "code",
   "execution_count": 4,
   "metadata": {},
   "outputs": [],
   "source": [
    "seq_encoder = T5EncoderModel.from_pretrained(\"Rostlab/prot_t5_xl_half_uniref50-enc\")\n",
    "seq_encoder = seq_encoder.to(device)\n",
    "\n",
    "tokenizer = T5Tokenizer.from_pretrained('Rostlab/prot_t5_xl_half_uniref50-enc', do_lower_case=False)"
   ]
  },
  {
   "cell_type": "code",
   "execution_count": 5,
   "metadata": {},
   "outputs": [],
   "source": [
    "label_model = LabelEmbedModel(label_dataset.no_labels(), eye=True) #.to(device)\n",
    "label_model = torch.nn.DataParallel(label_model).to(device) # TODO: Should i do this?\n",
    "\n",
    "all_labels = torch.arange(label_dataset.no_labels()).to(device)"
   ]
  },
  {
   "cell_type": "markdown",
   "metadata": {},
   "source": [
    "## Utils"
   ]
  },
  {
   "cell_type": "code",
   "execution_count": 6,
   "metadata": {},
   "outputs": [],
   "source": [
    "def seq_embd_means_no_inplace_operation(seqs, seq_embds):\n",
    "    mask = torch.empty((seq_embds.shape[0], seq_embds.shape[1]))\n",
    "\n",
    "    for i in range(len(seq_embds)):\n",
    "        mask[i] = torch.where(torch.arange(seq_embds.shape[1]) <= len(seqs[i]) // 2 + 1, 1, 0)\n",
    "\n",
    "    mask = mask.unsqueeze(2).repeat(1, 1, 1024).to(device)\n",
    "\n",
    "    return (seq_embds * mask.to(device)).mean(axis=1)"
   ]
  },
  {
   "cell_type": "code",
   "execution_count": 7,
   "metadata": {},
   "outputs": [],
   "source": [
    "def seq_embd_means_inplace_operation(seqs, seq_embds):\n",
    "    seq_embd_means = torch.empty((len(seq_embds), seq_embds.shape[-1]))\n",
    "\n",
    "    for i in range(len(seqs)):\n",
    "        seq_embd_means[i] = seq_embds[i, :len(seqs[i]) // 2 + 1].mean(axis=0)\n",
    "        \n",
    "    return seq_embd_means.to(device)"
   ]
  },
  {
   "cell_type": "markdown",
   "metadata": {},
   "source": [
    "## Train"
   ]
  },
  {
   "cell_type": "code",
   "execution_count": 8,
   "metadata": {},
   "outputs": [],
   "source": [
    "train_loss = SequenceLabelLoss(_lambda=0.1)\n",
    "eval_loss = SequenceLoss()\n",
    "\n",
    "optimizer = torch.optim.Adam([\n",
    "        {'params': label_model.parameters(), 'lr': 0.001},\n",
    "        {'params': seq_encoder.parameters(), 'lr': 0.001}\n",
    "    ])"
   ]
  },
  {
   "cell_type": "code",
   "execution_count": 9,
   "metadata": {},
   "outputs": [],
   "source": [
    "def compute_logits(seqs):\n",
    "    # TODO: can i tokenize on gpu?\n",
    "    ids = tokenizer.batch_encode_plus(seqs, add_special_tokens=True, padding=\"longest\")\n",
    "\n",
    "    with torch.no_grad():\n",
    "        input_ids = torch.tensor(ids['input_ids']).to(device)\n",
    "        attention_mask = torch.tensor(ids['attention_mask']).to(device)\n",
    "\n",
    "    label_embds = label_model(all_labels)\n",
    "\n",
    "    seq_embd_repr = seq_encoder(input_ids=input_ids, attention_mask=attention_mask)\n",
    "    seq_embds     = seq_embd_repr.last_hidden_state\n",
    "\n",
    "    with torch.no_grad():\n",
    "        # TODO: which one to use?\n",
    "        seq_embds = seq_embd_means_no_inplace_operation(seqs, seq_embds)\n",
    "        # seq_embds =  seq_embd_means_inplace_operation(seqs, seq_embds)\n",
    "\n",
    "    return seq_embds @ label_embds.T"
   ]
  },
  {
   "cell_type": "code",
   "execution_count": 10,
   "metadata": {},
   "outputs": [],
   "source": [
    "def evaluate():\n",
    "    running_loss = 0\n",
    "    \n",
    "    label_model.train(False)\n",
    "    seq_encoder.train(False)\n",
    "    \n",
    "    for idx, batch in enumerate(valloader):\n",
    "        seqs, labels = batch\n",
    "        \n",
    "        labels = labels.to(device)\n",
    "        \n",
    "        optimizer.zero_grad()\n",
    "        \n",
    "        logits = compute_logits(seqs)\n",
    "        loss = eval_loss(logits, labels)\n",
    "        \n",
    "        running_loss += loss.item()\n",
    "    \n",
    "    return running_loss / len(valloader)\n",
    "    "
   ]
  },
  {
   "cell_type": "code",
   "execution_count": 14,
   "metadata": {},
   "outputs": [],
   "source": [
    "def train():\n",
    "    running_loss = 0\n",
    "    last_loss = 0\n",
    "    \n",
    "    pbar = tqdm(enumerate(trainloader))\n",
    "    \n",
    "    label_model.train(True)\n",
    "    seq_encoder.train(True)\n",
    "        \n",
    "    for idx, batch in pbar:\n",
    "        seqs, labels, edges = batch\n",
    "        labels, edges = labels.to(device), edges.to(device)\n",
    "        \n",
    "        optimizer.zero_grad()\n",
    "        \n",
    "        logits = compute_logits(seqs)\n",
    "        loss =  train_loss(logits, labels, label_model(edges))\n",
    "        \n",
    "        running_loss += loss.item()\n",
    "        loss.backward()\n",
    "        optimizer.step()\n",
    "        \n",
    "        # REPORT\n",
    "        \n",
    "        if idx % 500 == 499:\n",
    "            print(f'validation loss: {evaluate()}')\n",
    "            label_model.train(True)\n",
    "            seq_encoder.train(True)\n",
    "\n",
    "        if idx % 50 == 49:\n",
    "            last_loss = running_loss / 50\n",
    "            pbar.set_description(f\"Batch {idx} / {len(trainloader)}, loss {loss.item()}\")\n",
    "            running_loss = 0.\n",
    "\n",
    "    return last_loss"
   ]
  },
  {
   "cell_type": "code",
   "execution_count": null,
   "metadata": {},
   "outputs": [
    {
     "name": "stderr",
     "output_type": "stream",
     "text": [
      "\n",
      "  0%|          | 0/1 [00:11<?, ?it/s]\u001b[A\n",
      "Batch 499 / 16292, loss 0.2808671318900209: : 500it [00:44,  1.63s/it] "
     ]
    },
    {
     "name": "stdout",
     "output_type": "stream",
     "text": [
      "validation loss: 0.047186862360913795\n"
     ]
    },
    {
     "name": "stderr",
     "output_type": "stream",
     "text": [
      "Batch 999 / 16292, loss 0.23617966498120938: : 1004it [01:27,  1.12s/it]"
     ]
    },
    {
     "name": "stdout",
     "output_type": "stream",
     "text": [
      "validation loss: 0.03915620674522501\n"
     ]
    },
    {
     "name": "stderr",
     "output_type": "stream",
     "text": [
      "Batch 1499 / 16292, loss 0.33049736534960683: : 1502it [02:10,  1.17s/it]"
     ]
    },
    {
     "name": "stdout",
     "output_type": "stream",
     "text": [
      "validation loss: 0.033846691709725804\n"
     ]
    },
    {
     "name": "stderr",
     "output_type": "stream",
     "text": [
      "Batch 1999 / 16292, loss 0.2844398075113364: : 2001it [02:52,  1.41s/it] "
     ]
    },
    {
     "name": "stdout",
     "output_type": "stream",
     "text": [
      "validation loss: 0.02978396832131858\n"
     ]
    },
    {
     "name": "stderr",
     "output_type": "stream",
     "text": [
      "Batch 2499 / 16292, loss 0.26878058582655956: : 2501it [03:36,  1.84s/it]"
     ]
    },
    {
     "name": "stdout",
     "output_type": "stream",
     "text": [
      "validation loss: 0.026668220270902668\n"
     ]
    },
    {
     "name": "stderr",
     "output_type": "stream",
     "text": [
      "Batch 2999 / 16292, loss 0.2883907044419228: : 3004it [04:22,  1.12s/it] "
     ]
    },
    {
     "name": "stdout",
     "output_type": "stream",
     "text": [
      "validation loss: 0.0240701770636582\n"
     ]
    },
    {
     "name": "stderr",
     "output_type": "stream",
     "text": [
      "Batch 3499 / 16292, loss 0.16909000094042623: : 3502it [05:05,  1.27s/it]"
     ]
    },
    {
     "name": "stdout",
     "output_type": "stream",
     "text": [
      "validation loss: 0.021944884514876705\n"
     ]
    },
    {
     "name": "stderr",
     "output_type": "stream",
     "text": [
      "Batch 3999 / 16292, loss 0.32136328722181384: : 4003it [05:48,  1.12s/it]"
     ]
    },
    {
     "name": "stdout",
     "output_type": "stream",
     "text": [
      "validation loss: 0.02015962071898317\n"
     ]
    },
    {
     "name": "stderr",
     "output_type": "stream",
     "text": [
      "Batch 4499 / 16292, loss 0.22879372132330397: : 4502it [06:31,  1.22s/it]"
     ]
    },
    {
     "name": "stdout",
     "output_type": "stream",
     "text": [
      "validation loss: 0.018648089219694925\n"
     ]
    },
    {
     "name": "stderr",
     "output_type": "stream",
     "text": [
      "Batch 4999 / 16292, loss 0.16397730413033265: : 5003it [07:14,  1.08s/it]"
     ]
    },
    {
     "name": "stdout",
     "output_type": "stream",
     "text": [
      "validation loss: 0.017303401942273672\n"
     ]
    },
    {
     "name": "stderr",
     "output_type": "stream",
     "text": [
      "Batch 5499 / 16292, loss 0.25279350309019466: : 5504it [07:57,  1.04s/it]"
     ]
    },
    {
     "name": "stdout",
     "output_type": "stream",
     "text": [
      "validation loss: 0.016127039247421617\n"
     ]
    },
    {
     "name": "stderr",
     "output_type": "stream",
     "text": [
      "Batch 5999 / 16292, loss 0.16687490567297456: : 6002it [08:41,  1.22s/it]"
     ]
    },
    {
     "name": "stdout",
     "output_type": "stream",
     "text": [
      "validation loss: 0.015100147737112816\n"
     ]
    },
    {
     "name": "stderr",
     "output_type": "stream",
     "text": [
      "Batch 6499 / 16292, loss 0.2405601055158807: : 6501it [09:24,  1.52s/it] "
     ]
    },
    {
     "name": "stdout",
     "output_type": "stream",
     "text": [
      "validation loss: 0.014162905533842071\n"
     ]
    },
    {
     "name": "stderr",
     "output_type": "stream",
     "text": [
      "Batch 6999 / 16292, loss 0.17428385072900263: : 7002it [10:06,  1.14s/it]"
     ]
    },
    {
     "name": "stdout",
     "output_type": "stream",
     "text": [
      "validation loss: 0.013303213168855976\n"
     ]
    },
    {
     "name": "stderr",
     "output_type": "stream",
     "text": [
      "Batch 7249 / 16292, loss 0.17409555257177567: : 7261it [10:22, 14.77it/s]"
     ]
    }
   ],
   "source": [
    "EPOCHS = 1\n",
    "\n",
    "pbar = tqdm(range(EPOCHS))\n",
    "for epoch in range(EPOCHS):\n",
    "    loss = train()\n",
    "    \n",
    "    pbar.set_description(f\"Epoch {epoch}, loss {loss.item()}\")"
   ]
  },
  {
   "cell_type": "markdown",
   "metadata": {},
   "source": [
    "## Playground"
   ]
  }
 ],
 "metadata": {
  "kernelspec": {
   "display_name": "Python 3 (ipykernel)",
   "language": "python",
   "name": "python3"
  },
  "language_info": {
   "codemirror_mode": {
    "name": "ipython",
    "version": 3
   },
   "file_extension": ".py",
   "mimetype": "text/x-python",
   "name": "python",
   "nbconvert_exporter": "python",
   "pygments_lexer": "ipython3",
   "version": "3.10.9"
  },
  "vscode": {
   "interpreter": {
    "hash": "f9142d7ddd0beea42c6382d4784af463c15297f753233ce920e470f27cf3cc90"
   }
  }
 },
 "nbformat": 4,
 "nbformat_minor": 4
}
