{
 "cells": [
  {
   "cell_type": "markdown",
   "metadata": {},
   "source": [
    "# Hyperbolical Embedding of CATH Labels and Protein Sequences\n",
    "\n",
    "Hierarchy:\n",
    "[CATH Labels Hierarchy](http://www.cathdb.info/browse/tree)\n",
    "\n",
    "Embedding Method:\n",
    "[Poincaré Embeddings for Learning Hierarchical Representations](https://papers.nips.cc/paper/2017/file/59dfa2df42d9e3d41f5b02bfc32229dd-Paper.pdf) & \n",
    "[Joint Learning of Hyperbolic Label Embeddings for Hierarchical Multi-label Classification: hierarchy embedding method](https://github.com/geoopt/geoopt/blob/master/examples/hyperbolic_multiclass_classification.ipynb)\n",
    "\n",
    "Loss function for embedding a known hierarchy:\n",
    "[Unit Ball Model for Embedding Hierarchical Structures in the Complex Hyperbolic Space](https://arxiv.org/pdf/2105.03966v3.pdf)\n",
    "\n",
    "Plots and manifold computations:\n",
    "[Geoopt library and usage example](https://github.com/geoopt/geoopt/blob/master/examples/hyperbolic_multiclass_classification.ipynb)\n",
    "\n",
    "Protein sequence embedding:\n",
    "[T5 model for protein sequences](https://huggingface.co/Rostlab/prot_t5_xl_half_uniref50-enc)"
   ]
  },
  {
   "cell_type": "markdown",
   "metadata": {},
   "source": [
    "## Setup"
   ]
  },
  {
   "cell_type": "code",
   "execution_count": 1,
   "metadata": {},
   "outputs": [
    {
     "name": "stdout",
     "output_type": "stream",
     "text": [
      "Using cuda\n"
     ]
    }
   ],
   "source": [
    "import torch\n",
    "torch.manual_seed(1)\n",
    "torch.cuda.manual_seed(1)\n",
    "\n",
    "import logging\n",
    "logging.basicConfig(level=logging.DEBUG,filename='../../logs/cath.log')   \n",
    "\n",
    "from tqdm import tqdm\n",
    "from datetime import datetime\n",
    "\n",
    "import os, sys\n",
    "sys.path.append(os.path.join(os.getcwd(), '../..'))\n",
    "\n",
    "import numpy as np\n",
    "import matplotlib.pyplot as plt\n",
    "\n",
    "from transformers import T5Tokenizer, T5EncoderModel, AutoConfig\n",
    "\n",
    "# from src.cath.datasets import LabelDataset\n",
    "# from src.utils import add_geodesic_grid\n",
    "# from src.utils import choice\n",
    "\n",
    "from src.datasets import SequenceLabelDataset, SequenceDataset\n",
    "from src.cath import CathLabelDataset\n",
    "from src.losses import SequenceLabelLoss, SequenceLoss, Sequence01Loss\n",
    "from src.models import LabelEmbedModel, Classifier\n",
    "\n",
    "device = torch.device('cuda' if torch.cuda.is_available() else 'cpu')\n",
    "print(\"Using {}\".format(device))\n",
    "\n",
    "\n",
    "%matplotlib inline"
   ]
  },
  {
   "cell_type": "markdown",
   "metadata": {},
   "source": [
    "## Data"
   ]
  },
  {
   "cell_type": "code",
   "execution_count": 2,
   "metadata": {},
   "outputs": [],
   "source": [
    "label_dataset = CathLabelDataset(path='../../data/cath/labels.csv', no_disconnected_per_connected=10)\n",
    "seq_train_dataset = SequenceDataset(label_dataset, path='../../data/cath/train.csv', )\n",
    "\n",
    "trainloader = torch.utils.data.DataLoader(\n",
    "    seq_train_dataset,\n",
    "    # SequenceLabelDataset(seq_train_dataset, label_dataset),\n",
    "    batch_size=2,\n",
    "    shuffle=True,\n",
    "    num_workers=2,\n",
    "    pin_memory=True\n",
    ")"
   ]
  },
  {
   "cell_type": "code",
   "execution_count": 3,
   "metadata": {},
   "outputs": [],
   "source": [
    "seq_val_dataset = SequenceDataset(label_dataset, path='../../data/cath/val.csv')\n",
    "\n",
    "valloader = torch.utils.data.DataLoader(\n",
    "    seq_val_dataset,\n",
    "    batch_size=1,\n",
    "    shuffle=True,\n",
    "    num_workers=1,\n",
    "    pin_memory=True\n",
    ")"
   ]
  },
  {
   "cell_type": "markdown",
   "metadata": {},
   "source": [
    "### Memory check"
   ]
  },
  {
   "cell_type": "code",
   "execution_count": 4,
   "metadata": {},
   "outputs": [
    {
     "name": "stdout",
     "output_type": "stream",
     "text": [
      "#0\n",
      "\ttotal 47.46234130859375\n",
      "\treserved 0.0\n",
      "\tallocated 0.0\n",
      "\tfree 0.0\n"
     ]
    }
   ],
   "source": [
    "for i in range(torch.cuda.device_count()):\n",
    "    t = torch.cuda.get_device_properties(i).total_memory\n",
    "    r = torch.cuda.memory_reserved(i)\n",
    "    a = torch.cuda.memory_allocated(i)\n",
    "    f = r-a  # free inside reserved\n",
    "\n",
    "    print(f'#{i}\\n\\ttotal {t/1024/1024/1024}\\n\\treserved {r/1024/1024/1024}\\n\\tallocated {a/1024/1024/1024}\\n\\tfree {f/1024/1024/1024}')"
   ]
  },
  {
   "cell_type": "markdown",
   "metadata": {},
   "source": [
    "## Models"
   ]
  },
  {
   "cell_type": "code",
   "execution_count": 40,
   "metadata": {},
   "outputs": [
    {
     "name": "stderr",
     "output_type": "stream",
     "text": [
      "Some weights of the model checkpoint at t5-base were not used when initializing T5EncoderModel: ['decoder.block.6.layer.2.DenseReluDense.wo.weight', 'decoder.block.11.layer.1.EncDecAttention.k.weight', 'decoder.block.9.layer.1.layer_norm.weight', 'decoder.block.8.layer.1.layer_norm.weight', 'decoder.block.7.layer.1.EncDecAttention.q.weight', 'decoder.block.6.layer.1.EncDecAttention.o.weight', 'decoder.block.9.layer.0.SelfAttention.q.weight', 'decoder.block.10.layer.1.EncDecAttention.k.weight', 'decoder.block.0.layer.1.EncDecAttention.v.weight', 'decoder.block.2.layer.2.DenseReluDense.wo.weight', 'decoder.block.4.layer.2.DenseReluDense.wo.weight', 'decoder.block.10.layer.1.EncDecAttention.o.weight', 'decoder.block.0.layer.0.SelfAttention.q.weight', 'decoder.block.6.layer.2.DenseReluDense.wi.weight', 'decoder.block.6.layer.1.EncDecAttention.v.weight', 'decoder.block.1.layer.0.layer_norm.weight', 'decoder.block.7.layer.0.SelfAttention.q.weight', 'decoder.block.2.layer.1.EncDecAttention.q.weight', 'decoder.block.10.layer.2.DenseReluDense.wi.weight', 'decoder.block.5.layer.0.SelfAttention.v.weight', 'decoder.block.3.layer.0.SelfAttention.v.weight', 'decoder.block.0.layer.0.layer_norm.weight', 'decoder.block.10.layer.2.DenseReluDense.wo.weight', 'decoder.block.8.layer.1.EncDecAttention.v.weight', 'decoder.block.7.layer.2.DenseReluDense.wo.weight', 'decoder.block.1.layer.2.DenseReluDense.wi.weight', 'decoder.block.9.layer.0.SelfAttention.k.weight', 'decoder.block.8.layer.0.SelfAttention.o.weight', 'decoder.block.0.layer.1.layer_norm.weight', 'decoder.block.5.layer.2.DenseReluDense.wi.weight', 'decoder.block.8.layer.1.EncDecAttention.q.weight', 'decoder.block.8.layer.1.EncDecAttention.k.weight', 'decoder.block.4.layer.0.SelfAttention.q.weight', 'decoder.block.1.layer.1.layer_norm.weight', 'decoder.block.0.layer.1.EncDecAttention.k.weight', 'decoder.block.5.layer.2.layer_norm.weight', 'decoder.block.7.layer.1.layer_norm.weight', 'decoder.block.2.layer.0.layer_norm.weight', 'decoder.block.9.layer.1.EncDecAttention.v.weight', 'decoder.block.10.layer.0.SelfAttention.q.weight', 'decoder.block.11.layer.0.SelfAttention.v.weight', 'decoder.block.0.layer.1.EncDecAttention.q.weight', 'decoder.block.0.layer.2.layer_norm.weight', 'decoder.block.1.layer.2.DenseReluDense.wo.weight', 'decoder.block.7.layer.1.EncDecAttention.o.weight', 'decoder.block.8.layer.2.DenseReluDense.wo.weight', 'decoder.block.9.layer.2.DenseReluDense.wi.weight', 'decoder.block.4.layer.1.EncDecAttention.v.weight', 'decoder.block.2.layer.2.DenseReluDense.wi.weight', 'decoder.block.5.layer.1.EncDecAttention.o.weight', 'decoder.block.8.layer.0.SelfAttention.k.weight', 'decoder.block.0.layer.0.SelfAttention.v.weight', 'decoder.block.11.layer.2.DenseReluDense.wo.weight', 'decoder.block.11.layer.1.EncDecAttention.q.weight', 'decoder.block.0.layer.1.EncDecAttention.relative_attention_bias.weight', 'decoder.block.9.layer.1.EncDecAttention.q.weight', 'decoder.block.3.layer.1.EncDecAttention.o.weight', 'decoder.block.11.layer.2.layer_norm.weight', 'decoder.block.6.layer.2.layer_norm.weight', 'decoder.block.6.layer.0.SelfAttention.o.weight', 'decoder.block.1.layer.1.EncDecAttention.v.weight', 'decoder.block.4.layer.2.DenseReluDense.wi.weight', 'decoder.block.2.layer.2.layer_norm.weight', 'decoder.block.1.layer.1.EncDecAttention.k.weight', 'decoder.block.3.layer.1.EncDecAttention.k.weight', 'decoder.block.2.layer.0.SelfAttention.q.weight', 'decoder.block.3.layer.0.SelfAttention.o.weight', 'decoder.block.5.layer.2.DenseReluDense.wo.weight', 'decoder.block.7.layer.2.layer_norm.weight', 'decoder.block.7.layer.0.SelfAttention.k.weight', 'decoder.block.6.layer.1.layer_norm.weight', 'decoder.block.5.layer.0.SelfAttention.o.weight', 'decoder.block.11.layer.1.EncDecAttention.v.weight', 'decoder.block.3.layer.2.DenseReluDense.wi.weight', 'decoder.block.10.layer.0.SelfAttention.v.weight', 'decoder.block.10.layer.0.SelfAttention.o.weight', 'decoder.block.6.layer.0.SelfAttention.k.weight', 'decoder.block.9.layer.2.layer_norm.weight', 'decoder.block.4.layer.2.layer_norm.weight', 'decoder.block.8.layer.2.layer_norm.weight', 'decoder.block.9.layer.0.layer_norm.weight', 'decoder.block.4.layer.1.EncDecAttention.o.weight', 'decoder.block.3.layer.1.EncDecAttention.q.weight', 'decoder.block.8.layer.1.EncDecAttention.o.weight', 'decoder.block.0.layer.2.DenseReluDense.wo.weight', 'decoder.block.5.layer.0.layer_norm.weight', 'decoder.block.0.layer.2.DenseReluDense.wi.weight', 'decoder.block.7.layer.1.EncDecAttention.k.weight', 'decoder.block.5.layer.0.SelfAttention.k.weight', 'decoder.block.11.layer.0.SelfAttention.k.weight', 'decoder.block.2.layer.1.layer_norm.weight', 'decoder.block.3.layer.0.SelfAttention.k.weight', 'decoder.block.7.layer.0.layer_norm.weight', 'decoder.block.1.layer.0.SelfAttention.v.weight', 'decoder.block.3.layer.2.DenseReluDense.wo.weight', 'decoder.block.9.layer.2.DenseReluDense.wo.weight', 'decoder.block.1.layer.1.EncDecAttention.o.weight', 'decoder.block.5.layer.1.layer_norm.weight', 'decoder.block.5.layer.1.EncDecAttention.v.weight', 'decoder.block.2.layer.1.EncDecAttention.k.weight', 'decoder.final_layer_norm.weight', 'decoder.block.2.layer.0.SelfAttention.k.weight', 'decoder.block.3.layer.0.SelfAttention.q.weight', 'decoder.block.0.layer.0.SelfAttention.relative_attention_bias.weight', 'decoder.block.3.layer.0.layer_norm.weight', 'decoder.block.3.layer.1.layer_norm.weight', 'decoder.block.7.layer.0.SelfAttention.v.weight', 'decoder.block.5.layer.1.EncDecAttention.k.weight', 'decoder.block.1.layer.0.SelfAttention.q.weight', 'decoder.block.8.layer.0.SelfAttention.q.weight', 'decoder.block.2.layer.0.SelfAttention.v.weight', 'decoder.block.6.layer.0.SelfAttention.v.weight', 'decoder.block.9.layer.1.EncDecAttention.k.weight', 'decoder.block.1.layer.0.SelfAttention.k.weight', 'decoder.block.0.layer.0.SelfAttention.o.weight', 'decoder.block.9.layer.1.EncDecAttention.o.weight', 'decoder.block.0.layer.1.EncDecAttention.o.weight', 'decoder.block.8.layer.2.DenseReluDense.wi.weight', 'decoder.block.4.layer.0.SelfAttention.o.weight', 'decoder.block.1.layer.1.EncDecAttention.q.weight', 'decoder.block.10.layer.2.layer_norm.weight', 'decoder.block.0.layer.0.SelfAttention.k.weight', 'decoder.block.9.layer.0.SelfAttention.o.weight', 'decoder.block.11.layer.0.SelfAttention.q.weight', 'decoder.block.4.layer.1.EncDecAttention.k.weight', 'decoder.block.8.layer.0.layer_norm.weight', 'decoder.block.11.layer.0.SelfAttention.o.weight', 'decoder.block.10.layer.1.EncDecAttention.q.weight', 'decoder.block.4.layer.1.EncDecAttention.q.weight', 'decoder.block.2.layer.1.EncDecAttention.v.weight', 'decoder.block.8.layer.0.SelfAttention.v.weight', 'decoder.block.10.layer.0.SelfAttention.k.weight', 'decoder.block.7.layer.0.SelfAttention.o.weight', 'decoder.block.9.layer.0.SelfAttention.v.weight', 'decoder.block.2.layer.0.SelfAttention.o.weight', 'decoder.block.10.layer.1.layer_norm.weight', 'decoder.block.11.layer.0.layer_norm.weight', 'decoder.block.6.layer.1.EncDecAttention.q.weight', 'decoder.block.1.layer.2.layer_norm.weight', 'decoder.block.6.layer.0.SelfAttention.q.weight', 'decoder.block.4.layer.0.layer_norm.weight', 'decoder.block.3.layer.2.layer_norm.weight', 'decoder.block.5.layer.0.SelfAttention.q.weight', 'decoder.block.7.layer.1.EncDecAttention.v.weight', 'decoder.block.4.layer.0.SelfAttention.v.weight', 'decoder.block.2.layer.1.EncDecAttention.o.weight', 'decoder.block.5.layer.1.EncDecAttention.q.weight', 'decoder.block.6.layer.0.layer_norm.weight', 'decoder.block.10.layer.0.layer_norm.weight', 'decoder.block.11.layer.1.layer_norm.weight', 'decoder.block.11.layer.2.DenseReluDense.wi.weight', 'decoder.block.1.layer.0.SelfAttention.o.weight', 'decoder.block.4.layer.1.layer_norm.weight', 'decoder.block.6.layer.1.EncDecAttention.k.weight', 'decoder.block.7.layer.2.DenseReluDense.wi.weight', 'decoder.block.11.layer.1.EncDecAttention.o.weight', 'decoder.block.10.layer.1.EncDecAttention.v.weight', 'decoder.block.3.layer.1.EncDecAttention.v.weight', 'decoder.block.4.layer.0.SelfAttention.k.weight']\n",
      "- This IS expected if you are initializing T5EncoderModel from the checkpoint of a model trained on another task or with another architecture (e.g. initializing a BertForSequenceClassification model from a BertForPreTraining model).\n",
      "- This IS NOT expected if you are initializing T5EncoderModel from the checkpoint of a model that you expect to be exactly identical (initializing a BertForSequenceClassification model from a BertForSequenceClassification model).\n",
      "Some weights of T5EncoderModel were not initialized from the model checkpoint at t5-base and are newly initialized: ['encoder.embed_tokens.weight']\n",
      "You should probably TRAIN this model on a down-stream task to be able to use it for predictions and inference.\n",
      "Some weights of T5EncoderModel were not initialized from the model checkpoint at t5-base and are newly initialized because the shapes did not match:\n",
      "- shared.weight: found shape torch.Size([32128, 768]) in the checkpoint and torch.Size([128, 768]) in the model instantiated\n",
      "You should probably TRAIN this model on a down-stream task to be able to use it for predictions and inference.\n"
     ]
    },
    {
     "name": "stdout",
     "output_type": "stream",
     "text": [
      "T5Config {\n",
      "  \"_name_or_path\": \"t5-base\",\n",
      "  \"architectures\": [\n",
      "    \"T5ForConditionalGeneration\"\n",
      "  ],\n",
      "  \"d_ff\": 3072,\n",
      "  \"d_kv\": 64,\n",
      "  \"d_model\": 768,\n",
      "  \"decoder_start_token_id\": 0,\n",
      "  \"dense_act_fn\": \"relu\",\n",
      "  \"dropout_rate\": 0.1,\n",
      "  \"eos_token_id\": 1,\n",
      "  \"feed_forward_proj\": \"relu\",\n",
      "  \"initializer_factor\": 1.0,\n",
      "  \"is_encoder_decoder\": true,\n",
      "  \"is_gated_act\": false,\n",
      "  \"layer_norm_epsilon\": 1e-06,\n",
      "  \"model_type\": \"t5\",\n",
      "  \"n_positions\": 512,\n",
      "  \"num_decoder_layers\": 12,\n",
      "  \"num_heads\": 12,\n",
      "  \"num_layers\": 12,\n",
      "  \"output_past\": true,\n",
      "  \"pad_token_id\": 0,\n",
      "  \"relative_attention_max_distance\": 128,\n",
      "  \"relative_attention_num_buckets\": 32,\n",
      "  \"task_specific_params\": {\n",
      "    \"summarization\": {\n",
      "      \"early_stopping\": true,\n",
      "      \"length_penalty\": 2.0,\n",
      "      \"max_length\": 200,\n",
      "      \"min_length\": 30,\n",
      "      \"no_repeat_ngram_size\": 3,\n",
      "      \"num_beams\": 4,\n",
      "      \"prefix\": \"summarize: \"\n",
      "    },\n",
      "    \"translation_en_to_de\": {\n",
      "      \"early_stopping\": true,\n",
      "      \"max_length\": 300,\n",
      "      \"num_beams\": 4,\n",
      "      \"prefix\": \"translate English to German: \"\n",
      "    },\n",
      "    \"translation_en_to_fr\": {\n",
      "      \"early_stopping\": true,\n",
      "      \"max_length\": 300,\n",
      "      \"num_beams\": 4,\n",
      "      \"prefix\": \"translate English to French: \"\n",
      "    },\n",
      "    \"translation_en_to_ro\": {\n",
      "      \"early_stopping\": true,\n",
      "      \"max_length\": 300,\n",
      "      \"num_beams\": 4,\n",
      "      \"prefix\": \"translate English to Romanian: \"\n",
      "    }\n",
      "  },\n",
      "  \"transformers_version\": \"4.24.0\",\n",
      "  \"use_cache\": true,\n",
      "  \"vocab_size\": 128\n",
      "}\n",
      "\n"
     ]
    }
   ],
   "source": [
    "# seq_encoder = T5EncoderModel.from_pretrained(\"Rostlab/prot_t5_xl_half_uniref50-enc\") #.to(device)\n",
    "\n",
    "\n",
    "EMBEDDING_DIM = 1\n",
    "\n",
    "config = AutoConfig.from_pretrained(\"t5-base\")\n",
    "# config.d_ff = 128\n",
    "# config.d_model = EMBEDDING_DIM\n",
    "config.vocab_size = 128\n",
    "\n",
    "\n",
    "EMBEDDING_DIM = config.d_model\n",
    "\n",
    "seq_encoder = T5EncoderModel.from_pretrained(\"t5-base\", config=config, ignore_mismatched_sizes=True)\n",
    "\n",
    "print(seq_encoder.config)\n",
    "seq_encoder = torch.nn.DataParallel(seq_encoder).to(device) # for training on multiple GPUs\n",
    "\n",
    "tokenizer = T5Tokenizer.from_pretrained('Rostlab/prot_t5_xl_half_uniref50-enc', do_lower_case=False)"
   ]
  },
  {
   "cell_type": "code",
   "execution_count": 41,
   "metadata": {},
   "outputs": [],
   "source": [
    "label_embeddings = LabelEmbedModel(label_dataset.no_labels(), emb_dim=EMBEDDING_DIM, eye=True) #.to(device)\n",
    "label_embeddings = torch.nn.DataParallel(label_embeddings).to(device) # for training on multiple GPUs"
   ]
  },
  {
   "cell_type": "code",
   "execution_count": 42,
   "metadata": {},
   "outputs": [],
   "source": [
    "classifier = Classifier(seq_encoder, tokenizer, label_embeddings, label_dataset.assignable_labels, device)"
   ]
  },
  {
   "cell_type": "markdown",
   "metadata": {},
   "source": [
    "### Memory check"
   ]
  },
  {
   "cell_type": "code",
   "execution_count": 8,
   "metadata": {},
   "outputs": [
    {
     "name": "stdout",
     "output_type": "stream",
     "text": [
      "#0\n",
      "\ttotal 47.46234130859375\n",
      "\treserved 0.376953125\n",
      "\tallocated 0.3402829170227051\n",
      "\tfree 0.03667020797729492\n"
     ]
    }
   ],
   "source": [
    "for i in range(torch.cuda.device_count()):\n",
    "    t = torch.cuda.get_device_properties(i).total_memory\n",
    "    r = torch.cuda.memory_reserved(i)\n",
    "    a = torch.cuda.memory_allocated(i)\n",
    "    f = r-a  # free inside reserved\n",
    "\n",
    "    print(f'#{i}\\n\\ttotal {t/1024/1024/1024}\\n\\treserved {r/1024/1024/1024}\\n\\tallocated {a/1024/1024/1024}\\n\\tfree {f/1024/1024/1024}')"
   ]
  },
  {
   "cell_type": "markdown",
   "metadata": {},
   "source": [
    "## Train"
   ]
  },
  {
   "cell_type": "code",
   "execution_count": 9,
   "metadata": {},
   "outputs": [],
   "source": [
    "def evaluate(classifier, loader, loss_fn, process_batch):\n",
    "    running_loss = 0\n",
    "    \n",
    "    classifier.train(False)\n",
    "    \n",
    "    for idx, batch in enumerate(loader):\n",
    "        seqs, labels = process_batch(batch)\n",
    "        \n",
    "        labels = labels.to(device)\n",
    "        \n",
    "        logits = classifier(seqs)\n",
    "        loss = loss_fn(logits, labels)\n",
    "        \n",
    "        running_loss += loss.item()\n",
    "    \n",
    "    return running_loss / len(loader)\n",
    "    "
   ]
  },
  {
   "cell_type": "code",
   "execution_count": null,
   "metadata": {},
   "outputs": [],
   "source": [
    "def train(classifier, trainloader, valloaders, validate_after=1000, batch_loss_after=50):\n",
    "    running_loss = 0\n",
    "    last_loss = 0\n",
    "    \n",
    "    pbar = tqdm(enumerate(trainloader))\n",
    "    \n",
    "    classifier.train(True)\n",
    "        \n",
    "    for idx, batch in pbar:\n",
    "        seqs, _, labels_hot = batch #, edges = batch\n",
    "        labels_hot = labels_hot.to(device)\n",
    "        # edges = edges.to(device)\n",
    "        \n",
    "        optimizer.zero_grad()\n",
    "        \n",
    "        logits = classifier(seqs)\n",
    "        # loss =  train_loss(logits, labels_hot, label_embeddings(edges))\n",
    "        loss =  train_loss(logits, labels_hot)\n",
    "        \n",
    "        running_loss += loss.item()\n",
    "        loss.backward()\n",
    "        optimizer.step()\n",
    "        \n",
    "        # REPORT\n",
    "        \n",
    "        if idx % batch_loss_after == batch_loss_after - 1:\n",
    "            last_loss = running_loss / batch_loss_after\n",
    "            logging.debug(f\"train set avg bce loss for batches {idx - batch_loss_after + 1} - {idx} / {len(trainloader)}: {last_loss}\")\n",
    "            pbar.set_description(f\"train set avg bce loss for batches {idx - batch_loss_after + 1} - {idx} / {len(trainloader)}: {last_loss}\")\n",
    "            running_loss = 0.\n",
    "        \n",
    "        if idx % validate_after == 0:\n",
    "            \n",
    "            for name, valloader in valloaders.items():\n",
    "                bce = evaluate(classifier, valloader, eval_bce_loss, lambda batch: (batch[0], batch[2]))\n",
    "                l01 = evaluate(classifier, valloader, eval_01_loss, lambda batch: (batch[0], batch[1]))\n",
    "\n",
    "                print(f'{name} bce loss: {bce}')\n",
    "                print(f'{name} 0-1 loss: {l01}')\n",
    "\n",
    "                logging.debug(f'{name} bce loss: {bce}')\n",
    "                logging.debug(f'{name} 0-1 loss: {l01}')\n",
    "\n",
    "            classifier.train(True)"
   ]
  },
  {
   "cell_type": "code",
   "execution_count": null,
   "metadata": {},
   "outputs": [],
   "source": [
    "train_loss = SequenceLoss()\n",
    "eval_bce_loss = SequenceLoss()\n",
    "eval_01_loss = Sequence01Loss()\n",
    "\n",
    "optimizer = torch.optim.Adam([\n",
    "        {'params': classifier.parameters(), 'lr': 0.1}\n",
    "        # {'params': seq_encoder.parameters(), 'lr': 0.001}\n",
    "    ])\n",
    "\n",
    "EPOCHS = 100\n",
    "for epoch in range(EPOCHS):\n",
    "    loss = train(classifier, trainloader, valloader, batch_loss_after=1000, validate_after=1000)"
   ]
  },
  {
   "cell_type": "markdown",
   "metadata": {},
   "source": [
    "### Memory check"
   ]
  },
  {
   "cell_type": "code",
   "execution_count": null,
   "metadata": {},
   "outputs": [],
   "source": [
    "for i in range(torch.cuda.device_count()):\n",
    "    t = torch.cuda.get_device_properties(i).total_memory\n",
    "    r = torch.cuda.memory_reserved(i)\n",
    "    a = torch.cuda.memory_allocated(i)\n",
    "    f = r-a  # free inside reserved\n",
    "\n",
    "    print(f'#{i}\\n\\ttotal {t/1024/1024/1024}\\n\\treserved {r/1024/1024/1024}\\n\\tallocated {a/1024/1024/1024}\\n\\tfree {f/1024/1024/1024}')"
   ]
  },
  {
   "cell_type": "markdown",
   "metadata": {},
   "source": [
    "## Playground"
   ]
  },
  {
   "cell_type": "markdown",
   "metadata": {},
   "source": [
    "#### Overfitting"
   ]
  },
  {
   "cell_type": "code",
   "execution_count": 26,
   "metadata": {},
   "outputs": [
    {
     "data": {
      "text/html": [
       "<div>\n",
       "<style scoped>\n",
       "    .dataframe tbody tr th:only-of-type {\n",
       "        vertical-align: middle;\n",
       "    }\n",
       "\n",
       "    .dataframe tbody tr th {\n",
       "        vertical-align: top;\n",
       "    }\n",
       "\n",
       "    .dataframe thead th {\n",
       "        text-align: right;\n",
       "    }\n",
       "</style>\n",
       "<table border=\"1\" class=\"dataframe\">\n",
       "  <thead>\n",
       "    <tr style=\"text-align: right;\">\n",
       "      <th></th>\n",
       "      <th>label</th>\n",
       "      <th>seq</th>\n",
       "    </tr>\n",
       "  </thead>\n",
       "  <tbody>\n",
       "    <tr>\n",
       "      <th>0</th>\n",
       "      <td>7190</td>\n",
       "      <td>SHYEEGPGKNLPFSVENKWSLLAKMCLYFGSAFATPFLVVRHQLLKT</td>\n",
       "    </tr>\n",
       "    <tr>\n",
       "      <th>1</th>\n",
       "      <td>4932</td>\n",
       "      <td>KCSLEMIDHIVGNQPDQEMVSASEWYLKNLQFHRFWSVDDTQVHTE...</td>\n",
       "    </tr>\n",
       "    <tr>\n",
       "      <th>2</th>\n",
       "      <td>6989</td>\n",
       "      <td>ISRKWEKKNKIVYPPQLPGEPRRPAEIYHCRRQIKYSKDKMWYLAK...</td>\n",
       "    </tr>\n",
       "    <tr>\n",
       "      <th>3</th>\n",
       "      <td>5220</td>\n",
       "      <td>GFPVRPQVPLRPMTYKAALDISHFLKEKGGLEGLIWSQRRQEILDL...</td>\n",
       "    </tr>\n",
       "    <tr>\n",
       "      <th>4</th>\n",
       "      <td>7199</td>\n",
       "      <td>GAQVSTQKTGAHETSLSATGNSIIHYTNINYYKDAASNSANRQDFT...</td>\n",
       "    </tr>\n",
       "    <tr>\n",
       "      <th>...</th>\n",
       "      <td>...</td>\n",
       "      <td>...</td>\n",
       "    </tr>\n",
       "    <tr>\n",
       "      <th>95</th>\n",
       "      <td>6884</td>\n",
       "      <td>TKLLKKIINETAFAASTQESRPILTGVHFVLSQHKELKTVATDSHR...</td>\n",
       "    </tr>\n",
       "    <tr>\n",
       "      <th>96</th>\n",
       "      <td>3401</td>\n",
       "      <td>APTNYNLRVIEVTVAANALATRYSVALPSHKDNSNSERGNLRDFMD...</td>\n",
       "    </tr>\n",
       "    <tr>\n",
       "      <th>97</th>\n",
       "      <td>2298</td>\n",
       "      <td>MKHDYTNPPWNAKVPVQRAMQWMPISQKAGAAWGVDPQLITAIIAI...</td>\n",
       "    </tr>\n",
       "    <tr>\n",
       "      <th>98</th>\n",
       "      <td>5157</td>\n",
       "      <td>ESAVLRGFLILGKEDKRYGPALSINELSNLAKGEKANVLIGQGDVV...</td>\n",
       "    </tr>\n",
       "    <tr>\n",
       "      <th>99</th>\n",
       "      <td>5151</td>\n",
       "      <td>FAIKRLIGRRFQDEEVQRDVSIMPFKIIAADNGDAWVEVKGQKMAP...</td>\n",
       "    </tr>\n",
       "  </tbody>\n",
       "</table>\n",
       "<p>100 rows × 2 columns</p>\n",
       "</div>"
      ],
      "text/plain": [
       "    label                                                seq\n",
       "0    7190    SHYEEGPGKNLPFSVENKWSLLAKMCLYFGSAFATPFLVVRHQLLKT\n",
       "1    4932  KCSLEMIDHIVGNQPDQEMVSASEWYLKNLQFHRFWSVDDTQVHTE...\n",
       "2    6989  ISRKWEKKNKIVYPPQLPGEPRRPAEIYHCRRQIKYSKDKMWYLAK...\n",
       "3    5220  GFPVRPQVPLRPMTYKAALDISHFLKEKGGLEGLIWSQRRQEILDL...\n",
       "4    7199  GAQVSTQKTGAHETSLSATGNSIIHYTNINYYKDAASNSANRQDFT...\n",
       "..    ...                                                ...\n",
       "95   6884  TKLLKKIINETAFAASTQESRPILTGVHFVLSQHKELKTVATDSHR...\n",
       "96   3401  APTNYNLRVIEVTVAANALATRYSVALPSHKDNSNSERGNLRDFMD...\n",
       "97   2298  MKHDYTNPPWNAKVPVQRAMQWMPISQKAGAAWGVDPQLITAIIAI...\n",
       "98   5157  ESAVLRGFLILGKEDKRYGPALSINELSNLAKGEKANVLIGQGDVV...\n",
       "99   5151  FAIKRLIGRRFQDEEVQRDVSIMPFKIIAADNGDAWVEVKGQKMAP...\n",
       "\n",
       "[100 rows x 2 columns]"
      ]
     },
     "execution_count": 26,
     "metadata": {},
     "output_type": "execute_result"
    }
   ],
   "source": [
    "import pandas as pd\n",
    "\n",
    "overfit_seq_df = pd.read_csv('../../data/cath/train.csv', sep=' ').sample(n=100)\n",
    "overfit_dataset = SequenceDataset(label_dataset, df=overfit_seq_df)\n",
    "\n",
    "overfit_loader = torch.utils.data.DataLoader(\n",
    "    overfit_dataset,\n",
    "    # SequenceLabelDataset(seq_train_dataset, label_dataset),\n",
    "    batch_size=1,\n",
    "    shuffle=True,\n",
    "    num_workers=2,\n",
    "    pin_memory=True\n",
    ")\n",
    "\n",
    "print('overfit loader size:', len(overfit_loader))\n",
    "overfit_seq_df"
   ]
  },
  {
   "cell_type": "code",
   "execution_count": 44,
   "metadata": {},
   "outputs": [
    {
     "name": "stderr",
     "output_type": "stream",
     "text": [
      "0it [00:00, ?it/s]"
     ]
    },
    {
     "name": "stdout",
     "output_type": "stream",
     "text": [
      "val set bce loss: 108.45213092803955\n",
      "val set 0-1 loss: 1.0\n"
     ]
    },
    {
     "name": "stderr",
     "output_type": "stream",
     "text": [
      "3it [00:27,  7.26s/it]"
     ]
    },
    {
     "name": "stdout",
     "output_type": "stream",
     "text": [
      "overfit set bce loss: 69.40430959817299\n",
      "overfit set 0-1 loss: 0.97\n"
     ]
    },
    {
     "name": "stderr",
     "output_type": "stream",
     "text": [
      "avg loss batches 900 - 999 / 7683: 71.67213508799672: : 999it [01:35, 19.09it/s] "
     ]
    },
    {
     "name": "stdout",
     "output_type": "stream",
     "text": [
      "val set bce loss: 162.42833251953124\n",
      "val set 0-1 loss: 1.0\n"
     ]
    },
    {
     "name": "stderr",
     "output_type": "stream",
     "text": [
      "avg loss batches 900 - 999 / 7683: 71.67213508799672: : 1004it [01:45,  2.41s/it]"
     ]
    },
    {
     "name": "stdout",
     "output_type": "stream",
     "text": [
      "overfit set bce loss: 82.4050433569125\n",
      "overfit set 0-1 loss: 0.92\n"
     ]
    },
    {
     "name": "stderr",
     "output_type": "stream",
     "text": [
      "avg loss batches 1900 - 1999 / 7683: 77.24043187536299: : 1999it [02:45, 19.53it/s]"
     ]
    },
    {
     "name": "stdout",
     "output_type": "stream",
     "text": [
      "val set bce loss: 224.46462745666503\n",
      "val set 0-1 loss: 1.0\n"
     ]
    },
    {
     "name": "stderr",
     "output_type": "stream",
     "text": [
      "avg loss batches 1900 - 1999 / 7683: 77.24043187536299: : 2003it [02:56,  2.16s/it]"
     ]
    },
    {
     "name": "stdout",
     "output_type": "stream",
     "text": [
      "overfit set bce loss: 96.08963254690083\n",
      "overfit set 0-1 loss: 0.99\n"
     ]
    },
    {
     "name": "stderr",
     "output_type": "stream",
     "text": [
      "avg loss batches 2900 - 2999 / 7683: 72.99151196281149: : 2998it [03:55, 23.32it/s]"
     ]
    },
    {
     "name": "stdout",
     "output_type": "stream",
     "text": [
      "val set bce loss: 254.43982681274414\n",
      "val set 0-1 loss: 1.0\n"
     ]
    },
    {
     "name": "stderr",
     "output_type": "stream",
     "text": [
      "avg loss batches 2900 - 2999 / 7683: 72.99151196281149: : 3004it [04:06,  1.84s/it]"
     ]
    },
    {
     "name": "stdout",
     "output_type": "stream",
     "text": [
      "overfit set bce loss: 101.06199868917665\n",
      "overfit set 0-1 loss: 0.97\n"
     ]
    },
    {
     "name": "stderr",
     "output_type": "stream",
     "text": [
      "avg loss batches 3900 - 3999 / 7683: 73.03752744096796: : 4000it [05:05, 24.11it/s]"
     ]
    },
    {
     "name": "stdout",
     "output_type": "stream",
     "text": [
      "val set bce loss: 250.4698737335205\n",
      "val set 0-1 loss: 1.0\n"
     ]
    },
    {
     "name": "stderr",
     "output_type": "stream",
     "text": [
      "avg loss batches 3900 - 3999 / 7683: 73.03752744096796: : 4004it [05:18,  2.09s/it]"
     ]
    },
    {
     "name": "stdout",
     "output_type": "stream",
     "text": [
      "overfit set bce loss: 82.15260115301058\n",
      "overfit set 0-1 loss: 0.91\n"
     ]
    },
    {
     "name": "stderr",
     "output_type": "stream",
     "text": [
      "avg loss batches 4900 - 4999 / 7683: 74.47523004771193: : 4998it [06:15, 25.18it/s]"
     ]
    },
    {
     "name": "stdout",
     "output_type": "stream",
     "text": [
      "val set bce loss: 273.92065361022946\n",
      "val set 0-1 loss: 1.0\n"
     ]
    },
    {
     "name": "stderr",
     "output_type": "stream",
     "text": [
      "avg loss batches 4900 - 4999 / 7683: 74.47523004771193: : 5003it [06:28,  1.95s/it]"
     ]
    },
    {
     "name": "stdout",
     "output_type": "stream",
     "text": [
      "overfit set bce loss: 91.27903585809196\n",
      "overfit set 0-1 loss: 0.96\n"
     ]
    },
    {
     "name": "stderr",
     "output_type": "stream",
     "text": [
      "avg loss batches 5900 - 5999 / 7683: 80.76576709804125: : 5999it [07:25, 22.92it/s]"
     ]
    },
    {
     "name": "stdout",
     "output_type": "stream",
     "text": [
      "val set bce loss: 285.72051879882815\n",
      "val set 0-1 loss: 1.0\n"
     ]
    },
    {
     "name": "stderr",
     "output_type": "stream",
     "text": [
      "avg loss batches 5900 - 5999 / 7683: 80.76576709804125: : 6004it [07:39,  1.93s/it]"
     ]
    },
    {
     "name": "stdout",
     "output_type": "stream",
     "text": [
      "overfit set bce loss: 89.57550202647967\n",
      "overfit set 0-1 loss: 0.95\n"
     ]
    },
    {
     "name": "stderr",
     "output_type": "stream",
     "text": [
      "avg loss batches 6900 - 6999 / 7683: 71.59993896777974: : 6999it [08:35, 21.00it/s]"
     ]
    },
    {
     "name": "stdout",
     "output_type": "stream",
     "text": [
      "val set bce loss: 312.7058590698242\n",
      "val set 0-1 loss: 1.0\n"
     ]
    },
    {
     "name": "stderr",
     "output_type": "stream",
     "text": [
      "avg loss batches 6900 - 6999 / 7683: 71.59993896777974: : 7004it [08:51,  2.00s/it]"
     ]
    },
    {
     "name": "stdout",
     "output_type": "stream",
     "text": [
      "overfit set bce loss: 92.54976760264361\n",
      "overfit set 0-1 loss: 0.97\n"
     ]
    },
    {
     "name": "stderr",
     "output_type": "stream",
     "text": [
      "avg loss batches 7500 - 7599 / 7683: 77.83862436813999: : 7683it [09:22, 13.65it/s]\n"
     ]
    },
    {
     "name": "stdout",
     "output_type": "stream",
     "text": [
      "Epoch 0, loss 77.83862436813999\n"
     ]
    },
    {
     "name": "stderr",
     "output_type": "stream",
     "text": [
      "0it [00:00, ?it/s]"
     ]
    },
    {
     "name": "stdout",
     "output_type": "stream",
     "text": [
      "val set bce loss: 314.394189453125\n",
      "val set 0-1 loss: 1.0\n"
     ]
    },
    {
     "name": "stderr",
     "output_type": "stream",
     "text": [
      "2it [00:25, 10.47s/it]"
     ]
    },
    {
     "name": "stdout",
     "output_type": "stream",
     "text": [
      "overfit set bce loss: 78.497961986694\n",
      "overfit set 0-1 loss: 0.94\n"
     ]
    },
    {
     "name": "stderr",
     "output_type": "stream",
     "text": [
      "avg loss batches 900 - 999 / 7683: 78.69002142827608: : 1000it [01:22, 22.38it/s]"
     ]
    },
    {
     "name": "stdout",
     "output_type": "stream",
     "text": [
      "val set bce loss: 349.5627697753906\n",
      "val set 0-1 loss: 1.0\n"
     ]
    },
    {
     "name": "stderr",
     "output_type": "stream",
     "text": [
      "avg loss batches 900 - 999 / 7683: 78.69002142827608: : 1004it [01:34,  1.98s/it]"
     ]
    },
    {
     "name": "stdout",
     "output_type": "stream",
     "text": [
      "overfit set bce loss: 91.58705764159677\n",
      "overfit set 0-1 loss: 0.92\n"
     ]
    },
    {
     "name": "stderr",
     "output_type": "stream",
     "text": [
      "avg loss batches 1900 - 1999 / 7683: 80.70542262944917: : 1998it [02:32, 21.32it/s]"
     ]
    },
    {
     "name": "stdout",
     "output_type": "stream",
     "text": [
      "val set bce loss: 368.10252044677736\n",
      "val set 0-1 loss: 1.0\n"
     ]
    },
    {
     "name": "stderr",
     "output_type": "stream",
     "text": [
      "avg loss batches 1900 - 1999 / 7683: 80.70542262944917: : 2003it [02:44,  1.96s/it]"
     ]
    },
    {
     "name": "stdout",
     "output_type": "stream",
     "text": [
      "overfit set bce loss: 95.81484050699538\n",
      "overfit set 0-1 loss: 0.91\n"
     ]
    },
    {
     "name": "stderr",
     "output_type": "stream",
     "text": [
      "avg loss batches 2900 - 2999 / 7683: 74.12040373209875: : 3000it [03:42, 25.97it/s]"
     ]
    },
    {
     "name": "stdout",
     "output_type": "stream",
     "text": [
      "val set bce loss: 382.38962478637694\n",
      "val set 0-1 loss: 1.0\n"
     ]
    },
    {
     "name": "stderr",
     "output_type": "stream",
     "text": [
      "avg loss batches 2900 - 2999 / 7683: 74.12040373209875: : 3003it [03:53,  2.10s/it]"
     ]
    },
    {
     "name": "stdout",
     "output_type": "stream",
     "text": [
      "overfit set bce loss: 97.27793799025937\n",
      "overfit set 0-1 loss: 0.94\n"
     ]
    },
    {
     "name": "stderr",
     "output_type": "stream",
     "text": [
      "avg loss batches 3900 - 3999 / 7683: 74.78699227416159: : 4000it [04:52, 19.92it/s]"
     ]
    },
    {
     "name": "stdout",
     "output_type": "stream",
     "text": [
      "val set bce loss: 403.3124040222168\n",
      "val set 0-1 loss: 1.0\n"
     ]
    },
    {
     "name": "stderr",
     "output_type": "stream",
     "text": [
      "avg loss batches 3900 - 3999 / 7683: 74.78699227416159: : 4003it [05:05,  2.38s/it]"
     ]
    },
    {
     "name": "stdout",
     "output_type": "stream",
     "text": [
      "overfit set bce loss: 95.47448186653719\n",
      "overfit set 0-1 loss: 0.91\n"
     ]
    },
    {
     "name": "stderr",
     "output_type": "stream",
     "text": [
      "avg loss batches 4900 - 4999 / 7683: 80.22638761853499: : 5000it [06:02, 21.98it/s]"
     ]
    },
    {
     "name": "stdout",
     "output_type": "stream",
     "text": [
      "val set bce loss: 424.2341390991211\n",
      "val set 0-1 loss: 1.0\n"
     ]
    },
    {
     "name": "stderr",
     "output_type": "stream",
     "text": [
      "avg loss batches 4900 - 4999 / 7683: 80.22638761853499: : 5003it [06:17,  2.36s/it]"
     ]
    },
    {
     "name": "stdout",
     "output_type": "stream",
     "text": [
      "overfit set bce loss: 89.54775285559793\n",
      "overfit set 0-1 loss: 0.93\n"
     ]
    },
    {
     "name": "stderr",
     "output_type": "stream",
     "text": [
      "avg loss batches 5900 - 5999 / 7683: 80.32514439317718: : 5998it [07:03, 18.87it/s]"
     ]
    },
    {
     "name": "stdout",
     "output_type": "stream",
     "text": [
      "val set bce loss: 443.01087600708007\n",
      "val set 0-1 loss: 1.0\n"
     ]
    },
    {
     "name": "stderr",
     "output_type": "stream",
     "text": [
      "avg loss batches 5900 - 5999 / 7683: 80.32514439317718: : 6004it [07:27,  1.79s/it]"
     ]
    },
    {
     "name": "stdout",
     "output_type": "stream",
     "text": [
      "overfit set bce loss: 75.04611991108861\n",
      "overfit set 0-1 loss: 0.87\n"
     ]
    },
    {
     "name": "stderr",
     "output_type": "stream",
     "text": [
      "avg loss batches 6900 - 6999 / 7683: 76.71517417059972: : 7000it [08:13, 25.37it/s]"
     ]
    },
    {
     "name": "stdout",
     "output_type": "stream",
     "text": [
      "val set bce loss: 468.40324081420897\n",
      "val set 0-1 loss: 1.0\n"
     ]
    },
    {
     "name": "stderr",
     "output_type": "stream",
     "text": [
      "avg loss batches 6900 - 6999 / 7683: 76.71517417059972: : 7004it [08:39,  1.97s/it]"
     ]
    },
    {
     "name": "stdout",
     "output_type": "stream",
     "text": [
      "overfit set bce loss: 94.13400901088491\n",
      "overfit set 0-1 loss: 0.96\n"
     ]
    },
    {
     "name": "stderr",
     "output_type": "stream",
     "text": [
      "avg loss batches 7500 - 7599 / 7683: 84.20082901014536: : 7683it [09:10, 13.95it/s]"
     ]
    },
    {
     "name": "stdout",
     "output_type": "stream",
     "text": [
      "Epoch 1, loss 84.20082901014536\n"
     ]
    },
    {
     "name": "stderr",
     "output_type": "stream",
     "text": [
      "\n",
      "0it [00:00, ?it/s]"
     ]
    },
    {
     "name": "stdout",
     "output_type": "stream",
     "text": [
      "val set bce loss: 465.59858154296876\n",
      "val set 0-1 loss: 1.0\n"
     ]
    },
    {
     "name": "stderr",
     "output_type": "stream",
     "text": [
      "3it [00:25,  6.62s/it]"
     ]
    },
    {
     "name": "stdout",
     "output_type": "stream",
     "text": [
      "overfit set bce loss: 79.42675896247849\n",
      "overfit set 0-1 loss: 0.94\n"
     ]
    },
    {
     "name": "stderr",
     "output_type": "stream",
     "text": [
      "avg loss batches 900 - 999 / 7683: 75.0148091180098: : 1000it [01:11, 21.68it/s]"
     ]
    },
    {
     "name": "stdout",
     "output_type": "stream",
     "text": [
      "val set bce loss: 494.3339776611328\n",
      "val set 0-1 loss: 1.0\n"
     ]
    },
    {
     "name": "stderr",
     "output_type": "stream",
     "text": [
      "avg loss batches 900 - 999 / 7683: 75.0148091180098: : 1003it [01:37,  2.41s/it]"
     ]
    },
    {
     "name": "stdout",
     "output_type": "stream",
     "text": [
      "overfit set bce loss: 82.08498492513259\n",
      "overfit set 0-1 loss: 0.89\n"
     ]
    },
    {
     "name": "stderr",
     "output_type": "stream",
     "text": [
      "avg loss batches 1900 - 1999 / 7683: 70.43263848277333: : 2000it [02:23, 26.59it/s]"
     ]
    },
    {
     "name": "stdout",
     "output_type": "stream",
     "text": [
      "val set bce loss: 532.2494198608398\n",
      "val set 0-1 loss: 1.0\n"
     ]
    },
    {
     "name": "stderr",
     "output_type": "stream",
     "text": [
      "avg loss batches 1900 - 1999 / 7683: 70.43263848277333: : 2004it [02:48,  1.98s/it]"
     ]
    },
    {
     "name": "stdout",
     "output_type": "stream",
     "text": [
      "overfit set bce loss: 96.80455796083189\n",
      "overfit set 0-1 loss: 0.87\n"
     ]
    },
    {
     "name": "stderr",
     "output_type": "stream",
     "text": [
      "avg loss batches 2900 - 2999 / 7683: 78.32333896197204: : 2998it [03:34, 23.67it/s]"
     ]
    },
    {
     "name": "stdout",
     "output_type": "stream",
     "text": [
      "val set bce loss: 538.1872412109375\n",
      "val set 0-1 loss: 1.0\n"
     ]
    },
    {
     "name": "stderr",
     "output_type": "stream",
     "text": [
      "avg loss batches 2900 - 2999 / 7683: 78.32333896197204: : 3004it [03:59,  1.78s/it]"
     ]
    },
    {
     "name": "stdout",
     "output_type": "stream",
     "text": [
      "overfit set bce loss: 86.48661442681215\n",
      "overfit set 0-1 loss: 0.91\n"
     ]
    },
    {
     "name": "stderr",
     "output_type": "stream",
     "text": [
      "avg loss batches 3900 - 3999 / 7683: 83.35363773884534: : 3998it [04:45, 21.01it/s]"
     ]
    },
    {
     "name": "stdout",
     "output_type": "stream",
     "text": [
      "val set bce loss: 559.6283638000489\n",
      "val set 0-1 loss: 1.0\n"
     ]
    },
    {
     "name": "stderr",
     "output_type": "stream",
     "text": [
      "avg loss batches 3900 - 3999 / 7683: 83.35363773884534: : 4001it [05:10,  2.56s/it]"
     ]
    },
    {
     "name": "stdout",
     "output_type": "stream",
     "text": [
      "overfit set bce loss: 85.78675626134093\n",
      "overfit set 0-1 loss: 0.88\n"
     ]
    },
    {
     "name": "stderr",
     "output_type": "stream",
     "text": [
      "avg loss batches 4900 - 4999 / 7683: 75.07327907673138: : 4998it [06:11, 19.75it/s]"
     ]
    },
    {
     "name": "stdout",
     "output_type": "stream",
     "text": [
      "val set bce loss: 565.4900988769531\n",
      "val set 0-1 loss: 1.0\n"
     ]
    },
    {
     "name": "stderr",
     "output_type": "stream",
     "text": [
      "avg loss batches 4900 - 4999 / 7683: 75.07327907673138: : 5003it [06:24,  1.98s/it]"
     ]
    },
    {
     "name": "stdout",
     "output_type": "stream",
     "text": [
      "overfit set bce loss: 81.38315127656621\n",
      "overfit set 0-1 loss: 0.85\n"
     ]
    },
    {
     "name": "stderr",
     "output_type": "stream",
     "text": [
      "avg loss batches 5900 - 5999 / 7683: 80.19996732097584: : 6000it [07:21, 20.38it/s]"
     ]
    },
    {
     "name": "stdout",
     "output_type": "stream",
     "text": [
      "val set bce loss: 591.2332174682617\n",
      "val set 0-1 loss: 1.0\n"
     ]
    },
    {
     "name": "stderr",
     "output_type": "stream",
     "text": [
      "avg loss batches 5900 - 5999 / 7683: 80.19996732097584: : 6003it [07:35,  2.37s/it]"
     ]
    },
    {
     "name": "stdout",
     "output_type": "stream",
     "text": [
      "overfit set bce loss: 80.94524468034098\n",
      "overfit set 0-1 loss: 0.91\n"
     ]
    },
    {
     "name": "stderr",
     "output_type": "stream",
     "text": [
      "avg loss batches 6900 - 6999 / 7683: 79.89593455836174: : 7000it [08:41, 21.86it/s]"
     ]
    },
    {
     "name": "stdout",
     "output_type": "stream",
     "text": [
      "val set bce loss: 602.6812460327149\n",
      "val set 0-1 loss: 1.0\n"
     ]
    },
    {
     "name": "stderr",
     "output_type": "stream",
     "text": [
      "avg loss batches 6900 - 6999 / 7683: 79.89593455836174: : 7003it [08:53,  2.73s/it]"
     ]
    },
    {
     "name": "stdout",
     "output_type": "stream",
     "text": [
      "overfit set bce loss: 85.02160571106857\n",
      "overfit set 0-1 loss: 0.88\n"
     ]
    },
    {
     "name": "stderr",
     "output_type": "stream",
     "text": [
      "avg loss batches 7500 - 7599 / 7683: 87.53530041834338: : 7683it [09:26, 13.56it/s]"
     ]
    },
    {
     "name": "stdout",
     "output_type": "stream",
     "text": [
      "Epoch 2, loss 87.53530041834338\n"
     ]
    },
    {
     "name": "stderr",
     "output_type": "stream",
     "text": [
      "\n",
      "0it [00:00, ?it/s]"
     ]
    },
    {
     "name": "stdout",
     "output_type": "stream",
     "text": [
      "val set bce loss: 611.3856506347656\n",
      "val set 0-1 loss: 1.0\n"
     ]
    },
    {
     "name": "stderr",
     "output_type": "stream",
     "text": [
      "3it [00:25,  6.64s/it]"
     ]
    },
    {
     "name": "stdout",
     "output_type": "stream",
     "text": [
      "overfit set bce loss: 85.27355830126209\n",
      "overfit set 0-1 loss: 0.89\n"
     ]
    },
    {
     "name": "stderr",
     "output_type": "stream",
     "text": [
      "avg loss batches 900 - 999 / 7683: 73.82090720597677: : 999it [02:03, 33.75it/s]"
     ]
    },
    {
     "name": "stdout",
     "output_type": "stream",
     "text": [
      "val set bce loss: 643.7867224121094\n",
      "val set 0-1 loss: 1.0\n"
     ]
    },
    {
     "name": "stderr",
     "output_type": "stream",
     "text": [
      "avg loss batches 900 - 999 / 7683: 73.82090720597677: : 1003it [03:05,  4.45s/it]"
     ]
    },
    {
     "name": "stdout",
     "output_type": "stream",
     "text": [
      "overfit set bce loss: 92.07301651678979\n",
      "overfit set 0-1 loss: 0.91\n"
     ]
    },
    {
     "name": "stderr",
     "output_type": "stream",
     "text": [
      "avg loss batches 1900 - 1999 / 7683: 66.87718797070956: : 1999it [04:15, 20.23it/s]"
     ]
    },
    {
     "name": "stdout",
     "output_type": "stream",
     "text": [
      "val set bce loss: 666.7957434082032\n",
      "val set 0-1 loss: 1.0\n"
     ]
    },
    {
     "name": "stderr",
     "output_type": "stream",
     "text": [
      "avg loss batches 1900 - 1999 / 7683: 66.87718797070956: : 2004it [04:27,  2.15s/it]"
     ]
    },
    {
     "name": "stdout",
     "output_type": "stream",
     "text": [
      "overfit set bce loss: 100.77366058760792\n",
      "overfit set 0-1 loss: 0.83\n"
     ]
    },
    {
     "name": "stderr",
     "output_type": "stream",
     "text": [
      "avg loss batches 2900 - 2999 / 7683: 75.32109170051008: : 2998it [05:25, 24.69it/s]"
     ]
    },
    {
     "name": "stdout",
     "output_type": "stream",
     "text": [
      "val set bce loss: 690.4294442749024\n",
      "val set 0-1 loss: 1.0\n"
     ]
    },
    {
     "name": "stderr",
     "output_type": "stream",
     "text": [
      "avg loss batches 2900 - 2999 / 7683: 75.32109170051008: : 3003it [05:39,  1.90s/it]"
     ]
    },
    {
     "name": "stdout",
     "output_type": "stream",
     "text": [
      "overfit set bce loss: 94.21469538867474\n",
      "overfit set 0-1 loss: 0.89\n"
     ]
    },
    {
     "name": "stderr",
     "output_type": "stream",
     "text": [
      "avg loss batches 3900 - 3999 / 7683: 68.41216589168661: : 3998it [06:35, 19.87it/s]"
     ]
    },
    {
     "name": "stdout",
     "output_type": "stream",
     "text": [
      "val set bce loss: 701.3017810058594\n",
      "val set 0-1 loss: 1.0\n"
     ]
    },
    {
     "name": "stderr",
     "output_type": "stream",
     "text": [
      "avg loss batches 3900 - 3999 / 7683: 68.41216589168661: : 4004it [06:49,  1.86s/it]"
     ]
    },
    {
     "name": "stdout",
     "output_type": "stream",
     "text": [
      "overfit set bce loss: 84.62874663047398\n",
      "overfit set 0-1 loss: 0.8\n"
     ]
    },
    {
     "name": "stderr",
     "output_type": "stream",
     "text": [
      "avg loss batches 4900 - 4999 / 7683: 67.30971210330587: : 4998it [07:45, 18.83it/s]"
     ]
    },
    {
     "name": "stdout",
     "output_type": "stream",
     "text": [
      "val set bce loss: 730.5704376220704\n",
      "val set 0-1 loss: 1.0\n"
     ]
    },
    {
     "name": "stderr",
     "output_type": "stream",
     "text": [
      "avg loss batches 4900 - 4999 / 7683: 67.30971210330587: : 5004it [08:00,  1.77s/it]"
     ]
    },
    {
     "name": "stdout",
     "output_type": "stream",
     "text": [
      "overfit set bce loss: 102.60123890219256\n",
      "overfit set 0-1 loss: 0.88\n"
     ]
    },
    {
     "name": "stderr",
     "output_type": "stream",
     "text": [
      "avg loss batches 5900 - 5999 / 7683: 68.96287071745843: : 5998it [08:55, 22.07it/s]"
     ]
    },
    {
     "name": "stdout",
     "output_type": "stream",
     "text": [
      "val set bce loss: 728.1580099487305\n",
      "val set 0-1 loss: 1.0\n"
     ]
    },
    {
     "name": "stderr",
     "output_type": "stream",
     "text": [
      "avg loss batches 5900 - 5999 / 7683: 68.96287071745843: : 6004it [09:09,  1.72s/it]"
     ]
    },
    {
     "name": "stdout",
     "output_type": "stream",
     "text": [
      "overfit set bce loss: 75.34229448376968\n",
      "overfit set 0-1 loss: 0.85\n"
     ]
    },
    {
     "name": "stderr",
     "output_type": "stream",
     "text": [
      "avg loss batches 6900 - 6999 / 7683: 79.18683919667333: : 6999it [10:05, 22.38it/s]"
     ]
    },
    {
     "name": "stdout",
     "output_type": "stream",
     "text": [
      "val set bce loss: 750.1715057373046\n",
      "val set 0-1 loss: 1.0\n"
     ]
    },
    {
     "name": "stderr",
     "output_type": "stream",
     "text": [
      "avg loss batches 6900 - 6999 / 7683: 79.18683919667333: : 7004it [10:20,  1.93s/it]"
     ]
    },
    {
     "name": "stdout",
     "output_type": "stream",
     "text": [
      "overfit set bce loss: 82.02512602360453\n",
      "overfit set 0-1 loss: 0.92\n"
     ]
    },
    {
     "name": "stderr",
     "output_type": "stream",
     "text": [
      "avg loss batches 7500 - 7599 / 7683: 86.39254925438883: : 7683it [10:50, 11.80it/s]"
     ]
    },
    {
     "name": "stdout",
     "output_type": "stream",
     "text": [
      "Epoch 3, loss 86.39254925438883\n"
     ]
    },
    {
     "name": "stderr",
     "output_type": "stream",
     "text": [
      "\n",
      "0it [00:00, ?it/s]"
     ]
    },
    {
     "name": "stdout",
     "output_type": "stream",
     "text": [
      "val set bce loss: 752.4848886108398\n",
      "val set 0-1 loss: 1.0\n"
     ]
    },
    {
     "name": "stderr",
     "output_type": "stream",
     "text": [
      "4it [00:25,  4.80s/it]"
     ]
    },
    {
     "name": "stdout",
     "output_type": "stream",
     "text": [
      "overfit set bce loss: 67.86201858329994\n",
      "overfit set 0-1 loss: 0.83\n"
     ]
    },
    {
     "name": "stderr",
     "output_type": "stream",
     "text": [
      "avg loss batches 900 - 999 / 7683: 72.94365484891085: : 998it [01:24, 23.31it/s]"
     ]
    },
    {
     "name": "stdout",
     "output_type": "stream",
     "text": [
      "val set bce loss: 780.6780673217773\n",
      "val set 0-1 loss: 1.0\n"
     ]
    },
    {
     "name": "stderr",
     "output_type": "stream",
     "text": [
      "avg loss batches 900 - 999 / 7683: 72.94365484891085: : 1003it [01:37,  1.96s/it]"
     ]
    },
    {
     "name": "stdout",
     "output_type": "stream",
     "text": [
      "overfit set bce loss: 75.766265623332\n",
      "overfit set 0-1 loss: 0.82\n"
     ]
    },
    {
     "name": "stderr",
     "output_type": "stream",
     "text": [
      "avg loss batches 1900 - 1999 / 7683: 65.80688478640636: : 1999it [02:34, 21.75it/s]"
     ]
    },
    {
     "name": "stdout",
     "output_type": "stream",
     "text": [
      "val set bce loss: 800.2253399658204\n",
      "val set 0-1 loss: 1.0\n"
     ]
    },
    {
     "name": "stderr",
     "output_type": "stream",
     "text": [
      "avg loss batches 1900 - 1999 / 7683: 65.80688478640636: : 2004it [02:46,  1.87s/it]"
     ]
    },
    {
     "name": "stdout",
     "output_type": "stream",
     "text": [
      "overfit set bce loss: 70.79917555016333\n",
      "overfit set 0-1 loss: 0.82\n"
     ]
    },
    {
     "name": "stderr",
     "output_type": "stream",
     "text": [
      "avg loss batches 2900 - 2999 / 7683: 83.26949688326157: : 2998it [03:44, 22.94it/s]"
     ]
    },
    {
     "name": "stdout",
     "output_type": "stream",
     "text": [
      "val set bce loss: 808.7747830200195\n",
      "val set 0-1 loss: 1.0\n"
     ]
    },
    {
     "name": "stderr",
     "output_type": "stream",
     "text": [
      "avg loss batches 2900 - 2999 / 7683: 83.26949688326157: : 3004it [03:56,  1.69s/it]"
     ]
    },
    {
     "name": "stdout",
     "output_type": "stream",
     "text": [
      "overfit set bce loss: 60.8179239614202\n",
      "overfit set 0-1 loss: 0.81\n"
     ]
    },
    {
     "name": "stderr",
     "output_type": "stream",
     "text": [
      "avg loss batches 3900 - 3999 / 7683: 69.86921872923436: : 4000it [04:54, 23.55it/s]"
     ]
    },
    {
     "name": "stdout",
     "output_type": "stream",
     "text": [
      "val set bce loss: 837.8409768676757\n",
      "val set 0-1 loss: 1.0\n"
     ]
    },
    {
     "name": "stderr",
     "output_type": "stream",
     "text": [
      "avg loss batches 3900 - 3999 / 7683: 69.86921872923436: : 4004it [05:06,  2.04s/it]"
     ]
    },
    {
     "name": "stdout",
     "output_type": "stream",
     "text": [
      "overfit set bce loss: 76.78592805966711\n",
      "overfit set 0-1 loss: 0.87\n"
     ]
    },
    {
     "name": "stderr",
     "output_type": "stream",
     "text": [
      "avg loss batches 4900 - 4999 / 7683: 80.70051451543773: : 4998it [06:04, 21.57it/s]"
     ]
    },
    {
     "name": "stdout",
     "output_type": "stream",
     "text": [
      "val set bce loss: 858.2336343383789\n",
      "val set 0-1 loss: 1.0\n"
     ]
    },
    {
     "name": "stderr",
     "output_type": "stream",
     "text": [
      "avg loss batches 4900 - 4999 / 7683: 80.70051451543773: : 5003it [06:15,  1.98s/it]"
     ]
    },
    {
     "name": "stdout",
     "output_type": "stream",
     "text": [
      "overfit set bce loss: 79.27065540096257\n",
      "overfit set 0-1 loss: 0.88\n"
     ]
    },
    {
     "name": "stderr",
     "output_type": "stream",
     "text": [
      "avg loss batches 5900 - 5999 / 7683: 72.90012332213313: : 5998it [07:14, 20.31it/s]"
     ]
    },
    {
     "name": "stdout",
     "output_type": "stream",
     "text": [
      "val set bce loss: 872.5216650390626\n",
      "val set 0-1 loss: 1.0\n"
     ]
    },
    {
     "name": "stderr",
     "output_type": "stream",
     "text": [
      "avg loss batches 5900 - 5999 / 7683: 72.90012332213313: : 6004it [07:25,  1.76s/it]"
     ]
    },
    {
     "name": "stdout",
     "output_type": "stream",
     "text": [
      "overfit set bce loss: 79.92197341249845\n",
      "overfit set 0-1 loss: 0.87\n"
     ]
    },
    {
     "name": "stderr",
     "output_type": "stream",
     "text": [
      "avg loss batches 6900 - 6999 / 7683: 83.21300302818273: : 6998it [08:24, 23.73it/s]"
     ]
    },
    {
     "name": "stdout",
     "output_type": "stream",
     "text": [
      "val set bce loss: 897.8834600830078\n",
      "val set 0-1 loss: 1.0\n"
     ]
    },
    {
     "name": "stderr",
     "output_type": "stream",
     "text": [
      "avg loss batches 6900 - 6999 / 7683: 83.21300302818273: : 7004it [08:33,  1.63s/it]"
     ]
    },
    {
     "name": "stdout",
     "output_type": "stream",
     "text": [
      "overfit set bce loss: 89.0260131559381\n",
      "overfit set 0-1 loss: 0.87\n"
     ]
    },
    {
     "name": "stderr",
     "output_type": "stream",
     "text": [
      "avg loss batches 7500 - 7599 / 7683: 78.6825008140263: : 7683it [09:03, 14.13it/s] "
     ]
    },
    {
     "name": "stdout",
     "output_type": "stream",
     "text": [
      "Epoch 4, loss 78.6825008140263\n"
     ]
    },
    {
     "name": "stderr",
     "output_type": "stream",
     "text": [
      "\n",
      "0it [00:00, ?it/s]"
     ]
    },
    {
     "name": "stdout",
     "output_type": "stream",
     "text": [
      "val set bce loss: 903.0701132202148\n",
      "val set 0-1 loss: 1.0\n"
     ]
    },
    {
     "name": "stderr",
     "output_type": "stream",
     "text": [
      "3it [00:24,  6.47s/it]"
     ]
    },
    {
     "name": "stdout",
     "output_type": "stream",
     "text": [
      "overfit set bce loss: 87.3839446970004\n",
      "overfit set 0-1 loss: 0.91\n"
     ]
    },
    {
     "name": "stderr",
     "output_type": "stream",
     "text": [
      "avg loss batches 900 - 999 / 7683: 68.74156526247678: : 999it [01:20, 23.79it/s]"
     ]
    },
    {
     "name": "stdout",
     "output_type": "stream",
     "text": [
      "val set bce loss: 915.6403384399414\n",
      "val set 0-1 loss: 1.0\n"
     ]
    },
    {
     "name": "stderr",
     "output_type": "stream",
     "text": [
      "avg loss batches 900 - 999 / 7683: 68.74156526247678: : 1005it [01:35,  1.74s/it]"
     ]
    },
    {
     "name": "stdout",
     "output_type": "stream",
     "text": [
      "overfit set bce loss: 68.93415194424838\n",
      "overfit set 0-1 loss: 0.82\n"
     ]
    },
    {
     "name": "stderr",
     "output_type": "stream",
     "text": [
      "avg loss batches 1900 - 1999 / 7683: 71.81860345665224: : 2000it [02:20, 25.46it/s]"
     ]
    },
    {
     "name": "stdout",
     "output_type": "stream",
     "text": [
      "val set bce loss: 948.2466232299805\n",
      "val set 0-1 loss: 1.0\n"
     ]
    },
    {
     "name": "stderr",
     "output_type": "stream",
     "text": [
      "avg loss batches 1900 - 1999 / 7683: 71.81860345665224: : 2003it [02:44,  2.11s/it]"
     ]
    },
    {
     "name": "stdout",
     "output_type": "stream",
     "text": [
      "overfit set bce loss: 79.29346726059913\n",
      "overfit set 0-1 loss: 0.86\n"
     ]
    },
    {
     "name": "stderr",
     "output_type": "stream",
     "text": [
      "avg loss batches 2900 - 2999 / 7683: 76.83054241170166: : 2998it [03:40, 17.11it/s]"
     ]
    },
    {
     "name": "stdout",
     "output_type": "stream",
     "text": [
      "val set bce loss: 962.1923919677735\n",
      "val set 0-1 loss: 1.0\n"
     ]
    },
    {
     "name": "stderr",
     "output_type": "stream",
     "text": [
      "avg loss batches 2900 - 2999 / 7683: 76.83054241170166: : 3003it [03:56,  2.55s/it]"
     ]
    },
    {
     "name": "stdout",
     "output_type": "stream",
     "text": [
      "overfit set bce loss: 78.36228554285007\n",
      "overfit set 0-1 loss: 0.81\n"
     ]
    },
    {
     "name": "stderr",
     "output_type": "stream",
     "text": [
      "avg loss batches 3900 - 3999 / 7683: 73.8270306464696: : 4000it [05:00, 24.85it/s] "
     ]
    },
    {
     "name": "stdout",
     "output_type": "stream",
     "text": [
      "val set bce loss: 991.3006509399414\n",
      "val set 0-1 loss: 1.0\n"
     ]
    },
    {
     "name": "stderr",
     "output_type": "stream",
     "text": [
      "avg loss batches 3900 - 3999 / 7683: 73.8270306464696: : 4003it [05:10,  2.29s/it]"
     ]
    },
    {
     "name": "stdout",
     "output_type": "stream",
     "text": [
      "overfit set bce loss: 85.0971395554424\n",
      "overfit set 0-1 loss: 0.79\n"
     ]
    },
    {
     "name": "stderr",
     "output_type": "stream",
     "text": [
      "avg loss batches 4900 - 4999 / 7683: 75.17950139663712: : 4998it [06:10, 20.30it/s]"
     ]
    },
    {
     "name": "stdout",
     "output_type": "stream",
     "text": [
      "val set bce loss: 999.1187210083008\n",
      "val set 0-1 loss: 1.0\n"
     ]
    },
    {
     "name": "stderr",
     "output_type": "stream",
     "text": [
      "avg loss batches 4900 - 4999 / 7683: 75.17950139663712: : 5003it [06:19,  1.96s/it]"
     ]
    },
    {
     "name": "stdout",
     "output_type": "stream",
     "text": [
      "overfit set bce loss: 71.08442951878844\n",
      "overfit set 0-1 loss: 0.74\n"
     ]
    },
    {
     "name": "stderr",
     "output_type": "stream",
     "text": [
      "avg loss batches 5900 - 5999 / 7683: 68.83801360309997: : 5999it [07:20, 19.23it/s]"
     ]
    },
    {
     "name": "stdout",
     "output_type": "stream",
     "text": [
      "val set bce loss: 1014.4273098754883\n",
      "val set 0-1 loss: 1.0\n"
     ]
    },
    {
     "name": "stderr",
     "output_type": "stream",
     "text": [
      "avg loss batches 5900 - 5999 / 7683: 68.83801360309997: : 6004it [07:28,  1.84s/it]"
     ]
    },
    {
     "name": "stdout",
     "output_type": "stream",
     "text": [
      "overfit set bce loss: 74.32067195645925\n",
      "overfit set 0-1 loss: 0.85\n"
     ]
    },
    {
     "name": "stderr",
     "output_type": "stream",
     "text": [
      "avg loss batches 6900 - 6999 / 7683: 78.35226633428532: : 6998it [08:30, 21.42it/s]"
     ]
    },
    {
     "name": "stdout",
     "output_type": "stream",
     "text": [
      "val set bce loss: 1033.9673989868163\n",
      "val set 0-1 loss: 1.0\n"
     ]
    },
    {
     "name": "stderr",
     "output_type": "stream",
     "text": [
      "avg loss batches 6900 - 6999 / 7683: 78.35226633428532: : 7004it [08:44,  2.01s/it]"
     ]
    },
    {
     "name": "stdout",
     "output_type": "stream",
     "text": [
      "overfit set bce loss: 72.99920435460226\n",
      "overfit set 0-1 loss: 0.83\n"
     ]
    },
    {
     "name": "stderr",
     "output_type": "stream",
     "text": [
      "avg loss batches 7500 - 7599 / 7683: 78.89332702163077: : 7683it [09:18, 13.75it/s]"
     ]
    },
    {
     "name": "stdout",
     "output_type": "stream",
     "text": [
      "Epoch 5, loss 78.89332702163077\n"
     ]
    },
    {
     "name": "stderr",
     "output_type": "stream",
     "text": [
      "\n",
      "0it [00:00, ?it/s]"
     ]
    },
    {
     "name": "stdout",
     "output_type": "stream",
     "text": [
      "val set bce loss: 1039.4633718872071\n",
      "val set 0-1 loss: 1.0\n"
     ]
    },
    {
     "name": "stderr",
     "output_type": "stream",
     "text": [
      "4it [00:28,  5.32s/it]"
     ]
    },
    {
     "name": "stdout",
     "output_type": "stream",
     "text": [
      "overfit set bce loss: 71.43124089730725\n",
      "overfit set 0-1 loss: 0.87\n"
     ]
    },
    {
     "name": "stderr",
     "output_type": "stream",
     "text": [
      "avg loss batches 900 - 999 / 7683: 69.65171135520023: : 1000it [01:31, 24.58it/s]"
     ]
    },
    {
     "name": "stdout",
     "output_type": "stream",
     "text": [
      "val set bce loss: 1073.1484530639648\n",
      "val set 0-1 loss: 1.0\n"
     ]
    },
    {
     "name": "stderr",
     "output_type": "stream",
     "text": [
      "avg loss batches 900 - 999 / 7683: 69.65171135520023: : 1004it [01:44,  2.11s/it]"
     ]
    },
    {
     "name": "stdout",
     "output_type": "stream",
     "text": [
      "overfit set bce loss: 85.35363930174616\n",
      "overfit set 0-1 loss: 0.87\n"
     ]
    },
    {
     "name": "stderr",
     "output_type": "stream",
     "text": [
      "avg loss batches 1900 - 1999 / 7683: 68.8052071848177: : 1999it [02:51, 21.80it/s] "
     ]
    },
    {
     "name": "stdout",
     "output_type": "stream",
     "text": [
      "val set bce loss: 1082.5628051757812\n",
      "val set 0-1 loss: 1.0\n"
     ]
    },
    {
     "name": "stderr",
     "output_type": "stream",
     "text": [
      "avg loss batches 1900 - 1999 / 7683: 68.8052071848177: : 2004it [03:00,  2.13s/it]"
     ]
    },
    {
     "name": "stdout",
     "output_type": "stream",
     "text": [
      "overfit set bce loss: 69.98068172033966\n",
      "overfit set 0-1 loss: 0.78\n"
     ]
    },
    {
     "name": "stderr",
     "output_type": "stream",
     "text": [
      "avg loss batches 2900 - 2999 / 7683: 70.42675651660431: : 2999it [04:01, 17.72it/s]"
     ]
    },
    {
     "name": "stdout",
     "output_type": "stream",
     "text": [
      "val set bce loss: 1104.8758303833008\n",
      "val set 0-1 loss: 1.0\n"
     ]
    },
    {
     "name": "stderr",
     "output_type": "stream",
     "text": [
      "avg loss batches 2900 - 2999 / 7683: 70.42675651660431: : 3004it [04:12,  2.17s/it]"
     ]
    },
    {
     "name": "stdout",
     "output_type": "stream",
     "text": [
      "overfit set bce loss: 63.69720903128009\n",
      "overfit set 0-1 loss: 0.8\n"
     ]
    },
    {
     "name": "stderr",
     "output_type": "stream",
     "text": [
      "avg loss batches 3900 - 3999 / 7683: 62.922686985866456: : 3998it [05:11, 23.43it/s]"
     ]
    },
    {
     "name": "stdout",
     "output_type": "stream",
     "text": [
      "val set bce loss: 1124.2822912597655\n",
      "val set 0-1 loss: 1.0\n"
     ]
    },
    {
     "name": "stderr",
     "output_type": "stream",
     "text": [
      "avg loss batches 3900 - 3999 / 7683: 62.922686985866456: : 4003it [05:22,  1.94s/it]"
     ]
    },
    {
     "name": "stdout",
     "output_type": "stream",
     "text": [
      "overfit set bce loss: 81.26496055305005\n",
      "overfit set 0-1 loss: 0.86\n"
     ]
    },
    {
     "name": "stderr",
     "output_type": "stream",
     "text": [
      "avg loss batches 4900 - 4999 / 7683: 74.2310366891783: : 5000it [06:21, 27.22it/s]  "
     ]
    },
    {
     "name": "stdout",
     "output_type": "stream",
     "text": [
      "val set bce loss: 1130.9114965820313\n",
      "val set 0-1 loss: 1.0\n"
     ]
    },
    {
     "name": "stderr",
     "output_type": "stream",
     "text": [
      "avg loss batches 4900 - 4999 / 7683: 74.2310366891783: : 5004it [06:32,  1.94s/it]"
     ]
    },
    {
     "name": "stdout",
     "output_type": "stream",
     "text": [
      "overfit set bce loss: 68.03624112847194\n",
      "overfit set 0-1 loss: 0.84\n"
     ]
    },
    {
     "name": "stderr",
     "output_type": "stream",
     "text": [
      "avg loss batches 5900 - 5999 / 7683: 73.84322295412551: : 5998it [07:31, 21.15it/s]"
     ]
    },
    {
     "name": "stdout",
     "output_type": "stream",
     "text": [
      "val set bce loss: 1162.6517303466796\n",
      "val set 0-1 loss: 1.0\n"
     ]
    },
    {
     "name": "stderr",
     "output_type": "stream",
     "text": [
      "avg loss batches 5900 - 5999 / 7683: 73.84322295412551: : 6004it [07:41,  1.76s/it]"
     ]
    },
    {
     "name": "stdout",
     "output_type": "stream",
     "text": [
      "overfit set bce loss: 74.6419988830293\n",
      "overfit set 0-1 loss: 0.82\n"
     ]
    },
    {
     "name": "stderr",
     "output_type": "stream",
     "text": [
      "avg loss batches 6900 - 6999 / 7683: 81.05245173199395: : 7000it [08:41, 23.64it/s]"
     ]
    },
    {
     "name": "stdout",
     "output_type": "stream",
     "text": [
      "val set bce loss: 1167.6163616943359\n",
      "val set 0-1 loss: 1.0\n"
     ]
    },
    {
     "name": "stderr",
     "output_type": "stream",
     "text": [
      "avg loss batches 6900 - 6999 / 7683: 81.05245173199395: : 7004it [08:51,  2.11s/it]"
     ]
    },
    {
     "name": "stdout",
     "output_type": "stream",
     "text": [
      "overfit set bce loss: 77.39705785870292\n",
      "overfit set 0-1 loss: 0.79\n"
     ]
    },
    {
     "name": "stderr",
     "output_type": "stream",
     "text": [
      "avg loss batches 7500 - 7599 / 7683: 78.30843927440198: : 7683it [09:23, 13.64it/s]"
     ]
    },
    {
     "name": "stdout",
     "output_type": "stream",
     "text": [
      "Epoch 6, loss 78.30843927440198\n"
     ]
    },
    {
     "name": "stderr",
     "output_type": "stream",
     "text": [
      "\n",
      "0it [00:00, ?it/s]"
     ]
    },
    {
     "name": "stdout",
     "output_type": "stream",
     "text": [
      "val set bce loss: 1180.244873046875\n",
      "val set 0-1 loss: 1.0\n"
     ]
    },
    {
     "name": "stderr",
     "output_type": "stream",
     "text": [
      "4it [00:25,  4.83s/it]"
     ]
    },
    {
     "name": "stdout",
     "output_type": "stream",
     "text": [
      "overfit set bce loss: 70.26846236632177\n",
      "overfit set 0-1 loss: 0.83\n"
     ]
    },
    {
     "name": "stderr",
     "output_type": "stream",
     "text": [
      "avg loss batches 900 - 999 / 7683: 66.1416088560159: : 998it [01:10, 21.33it/s] "
     ]
    },
    {
     "name": "stdout",
     "output_type": "stream",
     "text": [
      "val set bce loss: 1208.2694848632811\n",
      "val set 0-1 loss: 1.0\n"
     ]
    },
    {
     "name": "stderr",
     "output_type": "stream",
     "text": [
      "avg loss batches 900 - 999 / 7683: 66.1416088560159: : 1003it [01:35,  1.97s/it]"
     ]
    },
    {
     "name": "stdout",
     "output_type": "stream",
     "text": [
      "overfit set bce loss: 75.03656173885858\n",
      "overfit set 0-1 loss: 0.83\n"
     ]
    },
    {
     "name": "stderr",
     "output_type": "stream",
     "text": [
      "avg loss batches 1900 - 1999 / 7683: 69.643710341492: : 2000it [02:20, 24.03it/s]   "
     ]
    },
    {
     "name": "stdout",
     "output_type": "stream",
     "text": [
      "val set bce loss: 1227.9322259521484\n",
      "val set 0-1 loss: 1.0\n"
     ]
    },
    {
     "name": "stderr",
     "output_type": "stream",
     "text": [
      "avg loss batches 1900 - 1999 / 7683: 69.643710341492: : 2003it [02:45,  2.21s/it]"
     ]
    },
    {
     "name": "stdout",
     "output_type": "stream",
     "text": [
      "overfit set bce loss: 72.83966296652301\n",
      "overfit set 0-1 loss: 0.75\n"
     ]
    },
    {
     "name": "stderr",
     "output_type": "stream",
     "text": [
      "avg loss batches 2900 - 2999 / 7683: 75.37005699475601: : 2998it [03:29, 24.54it/s]"
     ]
    },
    {
     "name": "stdout",
     "output_type": "stream",
     "text": [
      "val set bce loss: 1245.9712915039063\n",
      "val set 0-1 loss: 1.0\n"
     ]
    },
    {
     "name": "stderr",
     "output_type": "stream",
     "text": [
      "avg loss batches 2900 - 2999 / 7683: 75.37005699475601: : 3003it [03:54,  1.95s/it]"
     ]
    },
    {
     "name": "stdout",
     "output_type": "stream",
     "text": [
      "overfit set bce loss: 75.78389750593597\n",
      "overfit set 0-1 loss: 0.76\n"
     ]
    },
    {
     "name": "stderr",
     "output_type": "stream",
     "text": [
      "avg loss batches 3900 - 3999 / 7683: 66.45128432441373: : 3999it [04:39, 24.53it/s]"
     ]
    },
    {
     "name": "stdout",
     "output_type": "stream",
     "text": [
      "val set bce loss: 1257.4075799560546\n",
      "val set 0-1 loss: 1.0\n"
     ]
    },
    {
     "name": "stderr",
     "output_type": "stream",
     "text": [
      "avg loss batches 3900 - 3999 / 7683: 66.45128432441373: : 4003it [05:04,  2.08s/it]"
     ]
    },
    {
     "name": "stdout",
     "output_type": "stream",
     "text": [
      "overfit set bce loss: 71.61908742171995\n",
      "overfit set 0-1 loss: 0.81\n"
     ]
    },
    {
     "name": "stderr",
     "output_type": "stream",
     "text": [
      "avg loss batches 4900 - 4999 / 7683: 72.00700306195151: : 5000it [05:49, 20.58it/s]"
     ]
    },
    {
     "name": "stdout",
     "output_type": "stream",
     "text": [
      "val set bce loss: 1280.9765740966798\n",
      "val set 0-1 loss: 1.0\n"
     ]
    },
    {
     "name": "stderr",
     "output_type": "stream",
     "text": [
      "avg loss batches 4900 - 4999 / 7683: 72.00700306195151: : 5004it [06:13,  1.93s/it]"
     ]
    },
    {
     "name": "stdout",
     "output_type": "stream",
     "text": [
      "overfit set bce loss: 80.7041057596088\n",
      "overfit set 0-1 loss: 0.83\n"
     ]
    },
    {
     "name": "stderr",
     "output_type": "stream",
     "text": [
      "avg loss batches 5900 - 5999 / 7683: 74.1287861281774: : 5998it [07:08, 19.18it/s] "
     ]
    },
    {
     "name": "stdout",
     "output_type": "stream",
     "text": [
      "val set bce loss: 1287.0087390136719\n",
      "val set 0-1 loss: 1.0\n"
     ]
    },
    {
     "name": "stderr",
     "output_type": "stream",
     "text": [
      "avg loss batches 5900 - 5999 / 7683: 74.1287861281774: : 6005it [07:21,  1.64s/it]"
     ]
    },
    {
     "name": "stdout",
     "output_type": "stream",
     "text": [
      "overfit set bce loss: 67.73648637634504\n",
      "overfit set 0-1 loss: 0.78\n"
     ]
    },
    {
     "name": "stderr",
     "output_type": "stream",
     "text": [
      "avg loss batches 6900 - 6999 / 7683: 71.28726985018821: : 7000it [08:18, 27.92it/s]"
     ]
    },
    {
     "name": "stdout",
     "output_type": "stream",
     "text": [
      "val set bce loss: 1301.973851928711\n",
      "val set 0-1 loss: 1.0\n"
     ]
    },
    {
     "name": "stderr",
     "output_type": "stream",
     "text": [
      "avg loss batches 6900 - 6999 / 7683: 71.28726985018821: : 7003it [08:32,  2.22s/it]"
     ]
    },
    {
     "name": "stdout",
     "output_type": "stream",
     "text": [
      "overfit set bce loss: 72.85717029552266\n",
      "overfit set 0-1 loss: 0.83\n"
     ]
    },
    {
     "name": "stderr",
     "output_type": "stream",
     "text": [
      "avg loss batches 7500 - 7599 / 7683: 68.72679533887273: : 7683it [09:02, 14.15it/s]"
     ]
    },
    {
     "name": "stdout",
     "output_type": "stream",
     "text": [
      "Epoch 7, loss 68.72679533887273\n"
     ]
    },
    {
     "name": "stderr",
     "output_type": "stream",
     "text": [
      "\n",
      "0it [00:00, ?it/s]"
     ]
    },
    {
     "name": "stdout",
     "output_type": "stream",
     "text": [
      "val set bce loss: 1307.044599609375\n",
      "val set 0-1 loss: 1.0\n"
     ]
    },
    {
     "name": "stderr",
     "output_type": "stream",
     "text": [
      "4it [00:25,  4.75s/it]"
     ]
    },
    {
     "name": "stdout",
     "output_type": "stream",
     "text": [
      "overfit set bce loss: 61.63962339669466\n",
      "overfit set 0-1 loss: 0.82\n"
     ]
    },
    {
     "name": "stderr",
     "output_type": "stream",
     "text": [
      "avg loss batches 900 - 999 / 7683: 72.06761012690983: : 998it [01:24, 23.45it/s]"
     ]
    },
    {
     "name": "stdout",
     "output_type": "stream",
     "text": [
      "val set bce loss: 1347.8539447021485\n",
      "val set 0-1 loss: 1.0\n"
     ]
    },
    {
     "name": "stderr",
     "output_type": "stream",
     "text": [
      "avg loss batches 900 - 999 / 7683: 72.06761012690983: : 1003it [01:34,  1.75s/it]"
     ]
    },
    {
     "name": "stdout",
     "output_type": "stream",
     "text": [
      "overfit set bce loss: 84.64737831311213\n",
      "overfit set 0-1 loss: 0.87\n"
     ]
    },
    {
     "name": "stderr",
     "output_type": "stream",
     "text": [
      "avg loss batches 1900 - 1999 / 7683: 70.33115481694091: : 1998it [02:34, 21.84it/s] "
     ]
    },
    {
     "name": "stdout",
     "output_type": "stream",
     "text": [
      "val set bce loss: 1360.6112390136718\n",
      "val set 0-1 loss: 1.0\n"
     ]
    },
    {
     "name": "stderr",
     "output_type": "stream",
     "text": [
      "avg loss batches 1900 - 1999 / 7683: 70.33115481694091: : 2003it [02:43,  1.87s/it]"
     ]
    },
    {
     "name": "stdout",
     "output_type": "stream",
     "text": [
      "overfit set bce loss: 66.45719996270932\n",
      "overfit set 0-1 loss: 0.76\n"
     ]
    },
    {
     "name": "stderr",
     "output_type": "stream",
     "text": [
      "avg loss batches 2900 - 2999 / 7683: 64.84174471858191: : 3000it [03:44, 28.46it/s]"
     ]
    },
    {
     "name": "stdout",
     "output_type": "stream",
     "text": [
      "val set bce loss: 1374.2303350830077\n",
      "val set 0-1 loss: 1.0\n"
     ]
    },
    {
     "name": "stderr",
     "output_type": "stream",
     "text": [
      "avg loss batches 2900 - 2999 / 7683: 64.84174471858191: : 3003it [03:54,  2.08s/it]"
     ]
    },
    {
     "name": "stdout",
     "output_type": "stream",
     "text": [
      "overfit set bce loss: 63.614005106447976\n",
      "overfit set 0-1 loss: 0.78\n"
     ]
    },
    {
     "name": "stderr",
     "output_type": "stream",
     "text": [
      "avg loss batches 3900 - 3999 / 7683: 75.509006690998: : 4000it [04:54, 25.04it/s]  "
     ]
    },
    {
     "name": "stdout",
     "output_type": "stream",
     "text": [
      "val set bce loss: 1394.5359869384765\n",
      "val set 0-1 loss: 1.0\n"
     ]
    },
    {
     "name": "stderr",
     "output_type": "stream",
     "text": [
      "avg loss batches 3900 - 3999 / 7683: 75.509006690998: : 4003it [05:04,  2.26s/it]"
     ]
    },
    {
     "name": "stdout",
     "output_type": "stream",
     "text": [
      "overfit set bce loss: 70.25972438327967\n",
      "overfit set 0-1 loss: 0.77\n"
     ]
    },
    {
     "name": "stderr",
     "output_type": "stream",
     "text": [
      "avg loss batches 4900 - 4999 / 7683: 66.77545480706955: : 4999it [06:04, 23.18it/s]"
     ]
    },
    {
     "name": "stdout",
     "output_type": "stream",
     "text": [
      "val set bce loss: 1415.633473510742\n",
      "val set 0-1 loss: 1.0\n"
     ]
    },
    {
     "name": "stderr",
     "output_type": "stream",
     "text": [
      "avg loss batches 4900 - 4999 / 7683: 66.77545480706955: : 5003it [06:15,  2.17s/it]"
     ]
    },
    {
     "name": "stdout",
     "output_type": "stream",
     "text": [
      "overfit set bce loss: 73.09428249195219\n",
      "overfit set 0-1 loss: 0.82\n"
     ]
    },
    {
     "name": "stderr",
     "output_type": "stream",
     "text": [
      "avg loss batches 5900 - 5999 / 7683: 71.56552755487336: : 6000it [07:14, 21.77it/s]"
     ]
    },
    {
     "name": "stdout",
     "output_type": "stream",
     "text": [
      "val set bce loss: 1423.8239971923829\n",
      "val set 0-1 loss: 1.0\n"
     ]
    },
    {
     "name": "stderr",
     "output_type": "stream",
     "text": [
      "avg loss batches 5900 - 5999 / 7683: 71.56552755487336: : 6003it [07:25,  2.23s/it]"
     ]
    },
    {
     "name": "stdout",
     "output_type": "stream",
     "text": [
      "overfit set bce loss: 73.50913537587638\n",
      "overfit set 0-1 loss: 0.8\n"
     ]
    },
    {
     "name": "stderr",
     "output_type": "stream",
     "text": [
      "avg loss batches 6900 - 6999 / 7683: 76.28652435796761: : 6998it [08:24, 22.81it/s]"
     ]
    },
    {
     "name": "stdout",
     "output_type": "stream",
     "text": [
      "val set bce loss: 1437.5540991210937\n",
      "val set 0-1 loss: 1.0\n"
     ]
    },
    {
     "name": "stderr",
     "output_type": "stream",
     "text": [
      "avg loss batches 6900 - 6999 / 7683: 76.28652435796761: : 7004it [08:34,  1.81s/it]"
     ]
    },
    {
     "name": "stdout",
     "output_type": "stream",
     "text": [
      "overfit set bce loss: 64.33095199681189\n",
      "overfit set 0-1 loss: 0.79\n"
     ]
    },
    {
     "name": "stderr",
     "output_type": "stream",
     "text": [
      "avg loss batches 7500 - 7599 / 7683: 72.14757353834516: : 7683it [09:08, 14.01it/s]"
     ]
    },
    {
     "name": "stdout",
     "output_type": "stream",
     "text": [
      "Epoch 8, loss 72.14757353834516\n"
     ]
    },
    {
     "name": "stderr",
     "output_type": "stream",
     "text": [
      "\n",
      "0it [00:00, ?it/s]"
     ]
    },
    {
     "name": "stdout",
     "output_type": "stream",
     "text": [
      "val set bce loss: 1476.3097509765626\n",
      "val set 0-1 loss: 1.0\n"
     ]
    },
    {
     "name": "stderr",
     "output_type": "stream",
     "text": [
      "3it [00:28,  7.44s/it]"
     ]
    },
    {
     "name": "stdout",
     "output_type": "stream",
     "text": [
      "overfit set bce loss: 83.75790402303537\n",
      "overfit set 0-1 loss: 0.87\n"
     ]
    },
    {
     "name": "stderr",
     "output_type": "stream",
     "text": [
      "avg loss batches 900 - 999 / 7683: 74.69652252982728: : 1000it [01:26, 25.28it/s]"
     ]
    },
    {
     "name": "stdout",
     "output_type": "stream",
     "text": [
      "val set bce loss: 1476.2564318847656\n",
      "val set 0-1 loss: 1.0\n"
     ]
    },
    {
     "name": "stderr",
     "output_type": "stream",
     "text": [
      "avg loss batches 900 - 999 / 7683: 74.69652252982728: : 1004it [01:40,  1.86s/it]"
     ]
    },
    {
     "name": "stdout",
     "output_type": "stream",
     "text": [
      "overfit set bce loss: 70.62119045547541\n",
      "overfit set 0-1 loss: 0.84\n"
     ]
    },
    {
     "name": "stderr",
     "output_type": "stream",
     "text": [
      "avg loss batches 1900 - 1999 / 7683: 72.8553305952502: : 1999it [02:36, 24.54it/s] "
     ]
    },
    {
     "name": "stdout",
     "output_type": "stream",
     "text": [
      "val set bce loss: 1497.4481732177735\n",
      "val set 0-1 loss: 1.0\n"
     ]
    },
    {
     "name": "stderr",
     "output_type": "stream",
     "text": [
      "avg loss batches 1900 - 1999 / 7683: 72.8553305952502: : 2003it [02:49,  2.13s/it]"
     ]
    },
    {
     "name": "stdout",
     "output_type": "stream",
     "text": [
      "overfit set bce loss: 63.063039820130726\n",
      "overfit set 0-1 loss: 0.83\n"
     ]
    },
    {
     "name": "stderr",
     "output_type": "stream",
     "text": [
      "avg loss batches 2900 - 2999 / 7683: 73.2190841973487: : 3000it [03:46, 22.76it/s]  "
     ]
    },
    {
     "name": "stdout",
     "output_type": "stream",
     "text": [
      "val set bce loss: 1512.3761779785157\n",
      "val set 0-1 loss: 1.0\n"
     ]
    },
    {
     "name": "stderr",
     "output_type": "stream",
     "text": [
      "avg loss batches 2900 - 2999 / 7683: 73.2190841973487: : 3003it [03:56,  2.15s/it]"
     ]
    },
    {
     "name": "stdout",
     "output_type": "stream",
     "text": [
      "overfit set bce loss: 69.68592116392841\n",
      "overfit set 0-1 loss: 0.76\n"
     ]
    },
    {
     "name": "stderr",
     "output_type": "stream",
     "text": [
      "avg loss batches 3900 - 3999 / 7683: 77.34752324210052: : 4000it [04:56, 23.31it/s]"
     ]
    },
    {
     "name": "stdout",
     "output_type": "stream",
     "text": [
      "val set bce loss: 1526.2391534423828\n",
      "val set 0-1 loss: 1.0\n"
     ]
    },
    {
     "name": "stderr",
     "output_type": "stream",
     "text": [
      "avg loss batches 3900 - 3999 / 7683: 77.34752324210052: : 4004it [05:06,  2.01s/it]"
     ]
    },
    {
     "name": "stdout",
     "output_type": "stream",
     "text": [
      "overfit set bce loss: 70.59399433013692\n",
      "overfit set 0-1 loss: 0.74\n"
     ]
    },
    {
     "name": "stderr",
     "output_type": "stream",
     "text": [
      "avg loss batches 4900 - 4999 / 7683: 74.23387945222635: : 4997it [05:48, 21.28it/s]"
     ]
    },
    {
     "name": "stdout",
     "output_type": "stream",
     "text": [
      "val set bce loss: 1541.1417260742187\n",
      "val set 0-1 loss: 1.0\n"
     ]
    },
    {
     "name": "stderr",
     "output_type": "stream",
     "text": [
      "avg loss batches 4900 - 4999 / 7683: 74.23387945222635: : 5003it [06:11,  1.64s/it]"
     ]
    },
    {
     "name": "stdout",
     "output_type": "stream",
     "text": [
      "overfit set bce loss: 69.27468956796446\n",
      "overfit set 0-1 loss: 0.77\n"
     ]
    },
    {
     "name": "stderr",
     "output_type": "stream",
     "text": [
      "avg loss batches 5900 - 5999 / 7683: 70.76242486727718: : 6000it [07:06, 23.68it/s]"
     ]
    },
    {
     "name": "stdout",
     "output_type": "stream",
     "text": [
      "val set bce loss: 1556.7828216552734\n",
      "val set 0-1 loss: 1.0\n"
     ]
    },
    {
     "name": "stderr",
     "output_type": "stream",
     "text": [
      "avg loss batches 5900 - 5999 / 7683: 70.76242486727718: : 6003it [07:15,  2.04s/it]"
     ]
    },
    {
     "name": "stdout",
     "output_type": "stream",
     "text": [
      "overfit set bce loss: 63.31829859864925\n",
      "overfit set 0-1 loss: 0.8\n"
     ]
    },
    {
     "name": "stderr",
     "output_type": "stream",
     "text": [
      "avg loss batches 6100 - 6199 / 7683: 62.4289705523569: : 6221it [07:25, 13.97it/s] \n"
     ]
    },
    {
     "ename": "KeyboardInterrupt",
     "evalue": "",
     "output_type": "error",
     "traceback": [
      "\u001b[0;31m---------------------------------------------------------------------------\u001b[0m",
      "\u001b[0;31mKeyboardInterrupt\u001b[0m                         Traceback (most recent call last)",
      "Cell \u001b[0;32mIn[44], line 12\u001b[0m\n\u001b[1;32m     10\u001b[0m EPOCHS \u001b[38;5;241m=\u001b[39m \u001b[38;5;241m100\u001b[39m\n\u001b[1;32m     11\u001b[0m \u001b[38;5;28;01mfor\u001b[39;00m epoch \u001b[38;5;129;01min\u001b[39;00m \u001b[38;5;28mrange\u001b[39m(EPOCHS):\n\u001b[0;32m---> 12\u001b[0m     loss \u001b[38;5;241m=\u001b[39m \u001b[43mtrain\u001b[49m\u001b[43m(\u001b[49m\u001b[43mclassifier\u001b[49m\u001b[43m,\u001b[49m\u001b[43m \u001b[49m\u001b[43mtrainloader\u001b[49m\u001b[43m,\u001b[49m\u001b[43m \u001b[49m\u001b[43m{\u001b[49m\u001b[38;5;124;43m'\u001b[39;49m\u001b[38;5;124;43mval set\u001b[39;49m\u001b[38;5;124;43m'\u001b[39;49m\u001b[43m:\u001b[49m\u001b[43m \u001b[49m\u001b[43mvalloader\u001b[49m\u001b[43m,\u001b[49m\u001b[43m \u001b[49m\u001b[38;5;124;43m'\u001b[39;49m\u001b[38;5;124;43moverfit set\u001b[39;49m\u001b[38;5;124;43m'\u001b[39;49m\u001b[43m:\u001b[49m\u001b[43m \u001b[49m\u001b[43moverfit_loader\u001b[49m\u001b[43m}\u001b[49m\u001b[43m,\u001b[49m\u001b[43m \u001b[49m\u001b[43mvalidate_after\u001b[49m\u001b[38;5;241;43m=\u001b[39;49m\u001b[38;5;241;43m1000\u001b[39;49m\u001b[43m,\u001b[49m\u001b[43m \u001b[49m\u001b[43mbatch_loss_after\u001b[49m\u001b[38;5;241;43m=\u001b[39;49m\u001b[38;5;241;43m100\u001b[39;49m\u001b[43m)\u001b[49m\n\u001b[1;32m     13\u001b[0m     \u001b[38;5;28mprint\u001b[39m(\u001b[38;5;124mf\u001b[39m\u001b[38;5;124m\"\u001b[39m\u001b[38;5;124mEpoch \u001b[39m\u001b[38;5;132;01m{\u001b[39;00mepoch\u001b[38;5;132;01m}\u001b[39;00m\u001b[38;5;124m, loss \u001b[39m\u001b[38;5;132;01m{\u001b[39;00mloss\u001b[38;5;132;01m}\u001b[39;00m\u001b[38;5;124m\"\u001b[39m)\n",
      "Cell \u001b[0;32mIn[38], line 21\u001b[0m, in \u001b[0;36mtrain\u001b[0;34m(classifier, trainloader, valloaders, validate_after, batch_loss_after)\u001b[0m\n\u001b[1;32m     18\u001b[0m loss \u001b[38;5;241m=\u001b[39m  train_loss(logits, labels_hot)\n\u001b[1;32m     20\u001b[0m running_loss \u001b[38;5;241m+\u001b[39m\u001b[38;5;241m=\u001b[39m loss\u001b[38;5;241m.\u001b[39mitem()\n\u001b[0;32m---> 21\u001b[0m \u001b[43mloss\u001b[49m\u001b[38;5;241;43m.\u001b[39;49m\u001b[43mbackward\u001b[49m\u001b[43m(\u001b[49m\u001b[43m)\u001b[49m\n\u001b[1;32m     22\u001b[0m optimizer\u001b[38;5;241m.\u001b[39mstep()\n\u001b[1;32m     24\u001b[0m \u001b[38;5;66;03m# REPORT\u001b[39;00m\n",
      "File \u001b[0;32m/mnt/lsf-nas-1/os-shared/anaconda3/envs/turcuman_heps_2/lib/python3.10/site-packages/torch/_tensor.py:488\u001b[0m, in \u001b[0;36mTensor.backward\u001b[0;34m(self, gradient, retain_graph, create_graph, inputs)\u001b[0m\n\u001b[1;32m    478\u001b[0m \u001b[38;5;28;01mif\u001b[39;00m has_torch_function_unary(\u001b[38;5;28mself\u001b[39m):\n\u001b[1;32m    479\u001b[0m     \u001b[38;5;28;01mreturn\u001b[39;00m handle_torch_function(\n\u001b[1;32m    480\u001b[0m         Tensor\u001b[38;5;241m.\u001b[39mbackward,\n\u001b[1;32m    481\u001b[0m         (\u001b[38;5;28mself\u001b[39m,),\n\u001b[0;32m   (...)\u001b[0m\n\u001b[1;32m    486\u001b[0m         inputs\u001b[38;5;241m=\u001b[39minputs,\n\u001b[1;32m    487\u001b[0m     )\n\u001b[0;32m--> 488\u001b[0m \u001b[43mtorch\u001b[49m\u001b[38;5;241;43m.\u001b[39;49m\u001b[43mautograd\u001b[49m\u001b[38;5;241;43m.\u001b[39;49m\u001b[43mbackward\u001b[49m\u001b[43m(\u001b[49m\n\u001b[1;32m    489\u001b[0m \u001b[43m    \u001b[49m\u001b[38;5;28;43mself\u001b[39;49m\u001b[43m,\u001b[49m\u001b[43m \u001b[49m\u001b[43mgradient\u001b[49m\u001b[43m,\u001b[49m\u001b[43m \u001b[49m\u001b[43mretain_graph\u001b[49m\u001b[43m,\u001b[49m\u001b[43m \u001b[49m\u001b[43mcreate_graph\u001b[49m\u001b[43m,\u001b[49m\u001b[43m \u001b[49m\u001b[43minputs\u001b[49m\u001b[38;5;241;43m=\u001b[39;49m\u001b[43minputs\u001b[49m\n\u001b[1;32m    490\u001b[0m \u001b[43m\u001b[49m\u001b[43m)\u001b[49m\n",
      "File \u001b[0;32m/mnt/lsf-nas-1/os-shared/anaconda3/envs/turcuman_heps_2/lib/python3.10/site-packages/torch/autograd/__init__.py:197\u001b[0m, in \u001b[0;36mbackward\u001b[0;34m(tensors, grad_tensors, retain_graph, create_graph, grad_variables, inputs)\u001b[0m\n\u001b[1;32m    192\u001b[0m     retain_graph \u001b[38;5;241m=\u001b[39m create_graph\n\u001b[1;32m    194\u001b[0m \u001b[38;5;66;03m# The reason we repeat same the comment below is that\u001b[39;00m\n\u001b[1;32m    195\u001b[0m \u001b[38;5;66;03m# some Python versions print out the first line of a multi-line function\u001b[39;00m\n\u001b[1;32m    196\u001b[0m \u001b[38;5;66;03m# calls in the traceback and some print out the last line\u001b[39;00m\n\u001b[0;32m--> 197\u001b[0m \u001b[43mVariable\u001b[49m\u001b[38;5;241;43m.\u001b[39;49m\u001b[43m_execution_engine\u001b[49m\u001b[38;5;241;43m.\u001b[39;49m\u001b[43mrun_backward\u001b[49m\u001b[43m(\u001b[49m\u001b[43m  \u001b[49m\u001b[38;5;66;43;03m# Calls into the C++ engine to run the backward pass\u001b[39;49;00m\n\u001b[1;32m    198\u001b[0m \u001b[43m    \u001b[49m\u001b[43mtensors\u001b[49m\u001b[43m,\u001b[49m\u001b[43m \u001b[49m\u001b[43mgrad_tensors_\u001b[49m\u001b[43m,\u001b[49m\u001b[43m \u001b[49m\u001b[43mretain_graph\u001b[49m\u001b[43m,\u001b[49m\u001b[43m \u001b[49m\u001b[43mcreate_graph\u001b[49m\u001b[43m,\u001b[49m\u001b[43m \u001b[49m\u001b[43minputs\u001b[49m\u001b[43m,\u001b[49m\n\u001b[1;32m    199\u001b[0m \u001b[43m    \u001b[49m\u001b[43mallow_unreachable\u001b[49m\u001b[38;5;241;43m=\u001b[39;49m\u001b[38;5;28;43;01mTrue\u001b[39;49;00m\u001b[43m,\u001b[49m\u001b[43m \u001b[49m\u001b[43maccumulate_grad\u001b[49m\u001b[38;5;241;43m=\u001b[39;49m\u001b[38;5;28;43;01mTrue\u001b[39;49;00m\u001b[43m)\u001b[49m\n",
      "\u001b[0;31mKeyboardInterrupt\u001b[0m: "
     ]
    }
   ],
   "source": [
    "train_loss = SequenceLoss()\n",
    "eval_bce_loss = SequenceLoss()\n",
    "eval_01_loss = Sequence01Loss()\n",
    "\n",
    "optimizer = torch.optim.Adam([\n",
    "        {'params': classifier.parameters(), 'lr': 0.1}\n",
    "        # {'params': seq_encoder.parameters(), 'lr': 0.001}\n",
    "    ])\n",
    "\n",
    "EPOCHS = 100\n",
    "for epoch in range(EPOCHS):\n",
    "    loss = train(classifier, trainloader, {'val set': valloader, 'overfit set': overfit_loader}, validate_after=1000, batch_loss_after=100)\n",
    "    print(f\"----------- epoch {epoch} ----------\")"
   ]
  },
  {
   "cell_type": "code",
   "execution_count": null,
   "metadata": {},
   "outputs": [],
   "source": [
    "evaluate(trainloader, eval_01_loss, lambda batch: (batch[0], batch[1]))"
   ]
  },
  {
   "cell_type": "code",
   "execution_count": 46,
   "metadata": {},
   "outputs": [
    {
     "name": "stdout",
     "output_type": "stream",
     "text": [
      "tensor([2411]) tensor([2159], device='cuda:0')\n",
      "tensor([5364]) tensor([1883], device='cuda:0')\n",
      "tensor([3269]) tensor([3216], device='cuda:0')\n",
      "tensor([1051]) tensor([1022], device='cuda:0')\n",
      "tensor([5505]) tensor([1883], device='cuda:0')\n",
      "tensor([3397]) tensor([3397], device='cuda:0')\n",
      "tensor([779]) tensor([779], device='cuda:0')\n",
      "tensor([4297]) tensor([1883], device='cuda:0')\n",
      "tensor([3281]) tensor([1883], device='cuda:0')\n",
      "tensor([3965]) tensor([1883], device='cuda:0')\n",
      "tensor([2398]) tensor([2511], device='cuda:0')\n",
      "tensor([4313]) tensor([1883], device='cuda:0')\n",
      "tensor([2511]) tensor([2511], device='cuda:0')\n",
      "tensor([1723]) tensor([1723], device='cuda:0')\n",
      "tensor([5513]) tensor([1883], device='cuda:0')\n",
      "tensor([3274]) tensor([3274], device='cuda:0')\n",
      "tensor([3246]) tensor([1883], device='cuda:0')\n",
      "tensor([4734]) tensor([1883], device='cuda:0')\n",
      "tensor([783]) tensor([718], device='cuda:0')\n",
      "tensor([2054]) tensor([2054], device='cuda:0')\n",
      "tensor([855]) tensor([1883], device='cuda:0')\n",
      "tensor([1834]) tensor([1883], device='cuda:0')\n",
      "tensor([3606]) tensor([1021], device='cuda:0')\n",
      "tensor([3199]) tensor([1883], device='cuda:0')\n",
      "tensor([2433]) tensor([1883], device='cuda:0')\n",
      "tensor([2179]) tensor([5573], device='cuda:0')\n",
      "tensor([5112]) tensor([1883], device='cuda:0')\n",
      "tensor([801]) tensor([1883], device='cuda:0')\n",
      "tensor([3637]) tensor([718], device='cuda:0')\n",
      "tensor([3550]) tensor([1883], device='cuda:0')\n",
      "tensor([5450]) tensor([3419], device='cuda:0')\n",
      "tensor([3966]) tensor([1883], device='cuda:0')\n",
      "tensor([5193]) tensor([3419], device='cuda:0')\n",
      "tensor([984]) tensor([1883], device='cuda:0')\n",
      "tensor([4327]) tensor([718], device='cuda:0')\n",
      "tensor([3434]) tensor([1022], device='cuda:0')\n",
      "tensor([5505]) tensor([1883], device='cuda:0')\n",
      "tensor([5151]) tensor([1883], device='cuda:0')\n",
      "tensor([907]) tensor([801], device='cuda:0')\n",
      "tensor([1059]) tensor([466], device='cuda:0')\n",
      "tensor([783]) tensor([1022], device='cuda:0')\n",
      "tensor([5759]) tensor([2511], device='cuda:0')\n",
      "tensor([823]) tensor([823], device='cuda:0')\n",
      "tensor([3287]) tensor([1883], device='cuda:0')\n",
      "tensor([3235]) tensor([1883], device='cuda:0')\n",
      "tensor([507]) tensor([1883], device='cuda:0')\n",
      "tensor([1739]) tensor([1022], device='cuda:0')\n",
      "tensor([3631]) tensor([2082], device='cuda:0')\n",
      "tensor([3700]) tensor([1021], device='cuda:0')\n",
      "tensor([801]) tensor([801], device='cuda:0')\n",
      "tensor([1688]) tensor([1883], device='cuda:0')\n",
      "tensor([801]) tensor([1022], device='cuda:0')\n",
      "tensor([5119]) tensor([1883], device='cuda:0')\n",
      "tensor([4387]) tensor([1883], device='cuda:0')\n",
      "tensor([945]) tensor([1883], device='cuda:0')\n",
      "tensor([5591]) tensor([466], device='cuda:0')\n",
      "tensor([4709]) tensor([1445], device='cuda:0')\n",
      "tensor([4225]) tensor([1883], device='cuda:0')\n",
      "tensor([5821]) tensor([2082], device='cuda:0')\n",
      "tensor([5523]) tensor([1883], device='cuda:0')\n",
      "tensor([718]) tensor([919], device='cuda:0')\n",
      "tensor([3452]) tensor([5428], device='cuda:0')\n",
      "tensor([4313]) tensor([1883], device='cuda:0')\n",
      "tensor([5470]) tensor([1022], device='cuda:0')\n",
      "tensor([1021]) tensor([1883], device='cuda:0')\n",
      "tensor([2398]) tensor([1883], device='cuda:0')\n",
      "tensor([3412]) tensor([1032], device='cuda:0')\n",
      "tensor([779]) tensor([779], device='cuda:0')\n",
      "tensor([5679]) tensor([1883], device='cuda:0')\n",
      "tensor([801]) tensor([801], device='cuda:0')\n",
      "tensor([5455]) tensor([3419], device='cuda:0')\n",
      "tensor([5435]) tensor([1883], device='cuda:0')\n",
      "tensor([788]) tensor([788], device='cuda:0')\n",
      "tensor([801]) tensor([801], device='cuda:0')\n",
      "tensor([5221]) tensor([3419], device='cuda:0')\n",
      "tensor([3630]) tensor([3630], device='cuda:0')\n",
      "tensor([5670]) tensor([1883], device='cuda:0')\n",
      "tensor([5103]) tensor([1883], device='cuda:0')\n",
      "tensor([722]) tensor([1883], device='cuda:0')\n",
      "tensor([5161]) tensor([1883], device='cuda:0')\n",
      "tensor([5354]) tensor([1883], device='cuda:0')\n",
      "tensor([5337]) tensor([1022], device='cuda:0')\n",
      "tensor([3273]) tensor([1883], device='cuda:0')\n",
      "tensor([5145]) tensor([1883], device='cuda:0')\n",
      "tensor([778]) tensor([1022], device='cuda:0')\n",
      "tensor([1881]) tensor([1883], device='cuda:0')\n",
      "tensor([2437]) tensor([2082], device='cuda:0')\n",
      "tensor([5469]) tensor([2331], device='cuda:0')\n",
      "tensor([1021]) tensor([1015], device='cuda:0')\n",
      "tensor([5833]) tensor([1883], device='cuda:0')\n",
      "tensor([1098]) tensor([1883], device='cuda:0')\n",
      "tensor([5465]) tensor([1883], device='cuda:0')\n",
      "tensor([3412]) tensor([1032], device='cuda:0')\n",
      "tensor([4157]) tensor([1883], device='cuda:0')\n",
      "tensor([3270]) tensor([3270], device='cuda:0')\n",
      "tensor([2398]) tensor([1883], device='cuda:0')\n",
      "tensor([5505]) tensor([1883], device='cuda:0')\n",
      "tensor([779]) tensor([779], device='cuda:0')\n",
      "tensor([3008]) tensor([3216], device='cuda:0')\n",
      "tensor([4297]) tensor([718], device='cuda:0')\n"
     ]
    }
   ],
   "source": [
    "for seq, label, _ in overfit_loader:\n",
    "    print(label, classifier.classify(seq))"
   ]
  },
  {
   "cell_type": "code",
   "execution_count": 47,
   "metadata": {},
   "outputs": [
    {
     "data": {
      "text/plain": [
       "tensor(3353)"
      ]
     },
     "execution_count": 47,
     "metadata": {},
     "output_type": "execute_result"
    }
   ],
   "source": [
    "label_dataset.assignable_labels[1833]"
   ]
  },
  {
   "cell_type": "code",
   "execution_count": null,
   "metadata": {},
   "outputs": [],
   "source": []
  }
 ],
 "metadata": {
  "kernelspec": {
   "display_name": "Python 3 (ipykernel)",
   "language": "python",
   "name": "python3"
  },
  "language_info": {
   "codemirror_mode": {
    "name": "ipython",
    "version": 3
   },
   "file_extension": ".py",
   "mimetype": "text/x-python",
   "name": "python",
   "nbconvert_exporter": "python",
   "pygments_lexer": "ipython3",
   "version": "3.10.9"
  },
  "vscode": {
   "interpreter": {
    "hash": "f9142d7ddd0beea42c6382d4784af463c15297f753233ce920e470f27cf3cc90"
   }
  }
 },
 "nbformat": 4,
 "nbformat_minor": 4
}
